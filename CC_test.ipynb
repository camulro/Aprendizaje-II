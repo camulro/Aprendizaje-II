{
  "nbformat": 4,
  "nbformat_minor": 0,
  "metadata": {
    "colab": {
      "name": "CC_test.ipynb",
      "provenance": [],
      "collapsed_sections": [],
      "toc_visible": true,
      "include_colab_link": true
    },
    "language_info": {
      "codemirror_mode": {
        "name": "ipython",
        "version": 3
      },
      "file_extension": ".py",
      "mimetype": "text/x-python",
      "name": "python",
      "nbconvert_exporter": "python",
      "pygments_lexer": "ipython3",
      "version": "3.6.7"
    },
    "kernelspec": {
      "name": "python3",
      "display_name": "Python 3"
    },
    "accelerator": "GPU"
  },
  "cells": [
    {
      "cell_type": "markdown",
      "metadata": {
        "id": "view-in-github",
        "colab_type": "text"
      },
      "source": [
        "<a href=\"https://colab.research.google.com/github/camulro/Aprendizaje-II/blob/sesi%C3%B3n2/CC_test.ipynb\" target=\"_parent\"><img src=\"https://colab.research.google.com/assets/colab-badge.svg\" alt=\"Open In Colab\"/></a>"
      ]
    },
    {
      "cell_type": "markdown",
      "source": [
        "##CONVOLUTION TESTS"
      ],
      "metadata": {
        "id": "MPq4CK0kG4nt"
      }
    },
    {
      "cell_type": "code",
      "source": [
        "import numpy as np\n",
        "import torch\n",
        "import torch.nn as nn"
      ],
      "metadata": {
        "id": "KlfC9_onG8yF"
      },
      "execution_count": 1,
      "outputs": []
    },
    {
      "cell_type": "code",
      "source": [
        "input_1d = torch.tensor([1,2,3,4,5,6,7,8,9,10],dtype = torch.float)\n",
        "input_2d = torch.tensor([[1,2,3,4,5],[6,7,8,9,10]],dtype = torch.float)\n",
        "input_2d_img = torch.tensor([[[1,2,3,4,5,6,7,8,9,10],[1,2,3,4,5,6,7,8,9,10],[1,2,3,4,5,6,7,8,9,10]],\n",
        "                             [[1,2,3,4,5,6,7,8,9,10],[1,2,3,4,5,6,7,8,9,10],[1,2,3,4,5,6,7,8,9,10]],\n",
        "                             [[1,2,3,4,5,6,7,8,9,10],[1,2,3,4,5,6,7,8,9,10],[1,2,3,4,5,6,7,8,9,10]]],dtype = torch.float)"
      ],
      "metadata": {
        "id": "3_Nj46tDHDZ1"
      },
      "execution_count": 2,
      "outputs": []
    },
    {
      "cell_type": "code",
      "source": [
        "print(input_1d.shape)\n",
        "print(input_2d.shape)\n",
        "print(input_2d_img.shape)"
      ],
      "metadata": {
        "colab": {
          "base_uri": "https://localhost:8080/"
        },
        "id": "elwqMJydH17W",
        "outputId": "a0d2a5b7-448a-4dc0-bce5-385dd8ce1bc2"
      },
      "execution_count": 4,
      "outputs": [
        {
          "output_type": "stream",
          "name": "stdout",
          "text": [
            "torch.Size([10])\n",
            "torch.Size([2, 5])\n",
            "torch.Size([3, 3, 10])\n"
          ]
        }
      ]
    },
    {
      "cell_type": "markdown",
      "source": [
        "##CNN 1D PARA ENTRADAS 1D"
      ],
      "metadata": {
        "id": "TCvCWOiyICod"
      }
    },
    {
      "cell_type": "markdown",
      "source": [
        "Preparar entrada para convolución."
      ],
      "metadata": {
        "id": "9tIlhGumIGyo"
      }
    },
    {
      "cell_type": "code",
      "source": [
        "input_1d = input_1d.unsqueeze(0).unsqueeze(0)\n",
        "input_1d.shape"
      ],
      "metadata": {
        "colab": {
          "base_uri": "https://localhost:8080/"
        },
        "id": "Z0M9CvGgIKHS",
        "outputId": "cd020290-2d99-400d-ce66-78055716fa83"
      },
      "execution_count": 6,
      "outputs": [
        {
          "output_type": "execute_result",
          "data": {
            "text/plain": [
              "torch.Size([1, 1, 10])"
            ]
          },
          "metadata": {},
          "execution_count": 6
        }
      ]
    },
    {
      "cell_type": "markdown",
      "source": [
        "CAPA CNN 1D"
      ],
      "metadata": {
        "id": "ZMeyiy-5IyxC"
      }
    },
    {
      "cell_type": "code",
      "source": [
        "cnn1d_1 = nn.Conv1d(in_channels=1, out_channels=1,kernel_size=3,stride=1)\n",
        "print(\"cnn1d_1: \\n\")\n",
        "print(cnn1d_1(input_1d).shape, \"\\n\")\n",
        "print(cnn1d_1(input_1d))"
      ],
      "metadata": {
        "colab": {
          "base_uri": "https://localhost:8080/"
        },
        "id": "RnOwYnIaI3tx",
        "outputId": "e622ec51-4124-4dda-a4aa-789a72dde5ea"
      },
      "execution_count": 7,
      "outputs": [
        {
          "output_type": "stream",
          "name": "stdout",
          "text": [
            "cnn1d_1: \n",
            "\n",
            "torch.Size([1, 1, 8]) \n",
            "\n",
            "tensor([[[1.2144, 2.1657, 3.1169, 4.0681, 5.0193, 5.9706, 6.9218, 7.8730]]],\n",
            "       grad_fn=<SqueezeBackward1>)\n"
          ]
        }
      ]
    },
    {
      "cell_type": "markdown",
      "source": [
        "Aumentar stride:"
      ],
      "metadata": {
        "id": "SSa_22EYJczr"
      }
    },
    {
      "cell_type": "code",
      "source": [
        "cnn1d_2 = nn.Conv1d(in_channels=1,out_channels=1,kernel_size=3,stride=2) #salto del kernel de dos en dos posiciones, tendras la mitad de resultados\n",
        "print(\"cnn1d_2: \\n\")\n",
        "print(cnn1d_2(input_1d).shape, \"\\n\")\n",
        "print(cnn1d_2(input_1d))"
      ],
      "metadata": {
        "colab": {
          "base_uri": "https://localhost:8080/"
        },
        "id": "xETt4C-TQc94",
        "outputId": "c6f121ed-952f-4fe7-9d1e-dbedf91a9513"
      },
      "execution_count": 9,
      "outputs": [
        {
          "output_type": "stream",
          "name": "stdout",
          "text": [
            "cnn1d_2: \n",
            "\n",
            "torch.Size([1, 1, 4]) \n",
            "\n",
            "tensor([[[-0.9797, -1.7096, -2.4394, -3.1692]]], grad_fn=<SqueezeBackward1>)\n"
          ]
        }
      ]
    },
    {
      "cell_type": "markdown",
      "source": [
        "Cambiar kernel size:"
      ],
      "metadata": {
        "id": "1O3lWvU6Rftd"
      }
    },
    {
      "cell_type": "code",
      "source": [
        "cnn1d_3 = nn.Conv1d(in_channels=1,out_channels=1,kernel_size=2,stride=1)\n",
        "print(\"cnn1d_3: \\n\")\n",
        "print(cnn1d_3(input_1d).shape, \"\\n\")\n",
        "print(cnn1d_3(input_1d))\n",
        "#longitud de salida de la convolución de 9 resultados, hace 9 desplazamientos"
      ],
      "metadata": {
        "colab": {
          "base_uri": "https://localhost:8080/"
        },
        "id": "_VesKDmVRzOF",
        "outputId": "7b770282-3785-4693-bce2-600bc6e72bab"
      },
      "execution_count": 10,
      "outputs": [
        {
          "output_type": "stream",
          "name": "stdout",
          "text": [
            "cnn1d_3: \n",
            "\n",
            "torch.Size([1, 1, 9]) \n",
            "\n",
            "tensor([[[0.2546, 0.5621, 0.8695, 1.1770, 1.4845, 1.7919, 2.0994, 2.4068,\n",
            "          2.7143]]], grad_fn=<SqueezeBackward1>)\n"
          ]
        }
      ]
    },
    {
      "cell_type": "markdown",
      "source": [
        "Cambiar out_channels:"
      ],
      "metadata": {
        "id": "6lQ1OzLISZ6q"
      }
    },
    {
      "cell_type": "code",
      "source": [
        "cnn1d_4 = nn.Conv1d(in_channels=1,out_channels=5,kernel_size=3,stride=1) #añadimos canales a la salida(segundo elemnto del tensor)\n",
        "print(\"cnn1d_4: \\n\")\n",
        "print(cnn1d_4(input_1d).shape, \"\\n\")\n",
        "print(cnn1d_4(input_1d))"
      ],
      "metadata": {
        "colab": {
          "base_uri": "https://localhost:8080/"
        },
        "id": "E-7jDM0BV7qj",
        "outputId": "13c1a586-d978-464d-be49-d673b67965c3"
      },
      "execution_count": 11,
      "outputs": [
        {
          "output_type": "stream",
          "name": "stdout",
          "text": [
            "cnn1d_4: \n",
            "\n",
            "torch.Size([1, 5, 8]) \n",
            "\n",
            "tensor([[[-2.0122, -2.8041, -3.5960, -4.3879, -5.1798, -5.9717, -6.7635,\n",
            "          -7.5554],\n",
            "         [ 1.7706,  2.1082,  2.4459,  2.7836,  3.1213,  3.4589,  3.7966,\n",
            "           4.1343],\n",
            "         [ 1.6418,  1.9140,  2.1862,  2.4584,  2.7306,  3.0028,  3.2750,\n",
            "           3.5472],\n",
            "         [-1.1448, -1.5364, -1.9279, -2.3194, -2.7109, -3.1024, -3.4939,\n",
            "          -3.8854],\n",
            "         [-0.6060, -0.9088, -1.2116, -1.5144, -1.8172, -2.1200, -2.4228,\n",
            "          -2.7256]]], grad_fn=<SqueezeBackward1>)\n"
          ]
        }
      ]
    },
    {
      "cell_type": "markdown",
      "source": [
        "Añadir padding:"
      ],
      "metadata": {
        "id": "eoBRqkqLWtfE"
      }
    },
    {
      "cell_type": "code",
      "source": [
        "cnn1d_5 = nn.Conv1d(in_channels=1,out_channels=1,kernel_size=3,stride=1,padding=1) #compensamos la muestra que queda fuera de la convolución en los extremos del vector\n",
        "print(\"cnn1d_5: \\n\")\n",
        "print(cnn1d_5(input_1d).shape, \"\\n\")\n",
        "print(cnn1d_5(input_1d))\n",
        "#preserva la dimensión original"
      ],
      "metadata": {
        "colab": {
          "base_uri": "https://localhost:8080/"
        },
        "id": "kjx2Pfl0WxfF",
        "outputId": "127b56f7-73b0-4d94-b9cb-ff52874bf490"
      },
      "execution_count": 13,
      "outputs": [
        {
          "output_type": "stream",
          "name": "stdout",
          "text": [
            "cnn1d_5: \n",
            "\n",
            "torch.Size([1, 1, 10]) \n",
            "\n",
            "tensor([[[0.3199, 1.0354, 1.7510, 2.4665, 3.1820, 3.8976, 4.6131, 5.3287,\n",
            "          6.0442, 1.6648]]], grad_fn=<SqueezeBackward1>)\n"
          ]
        }
      ]
    }
  ]
}