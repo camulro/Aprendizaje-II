{
  "nbformat": 4,
  "nbformat_minor": 0,
  "metadata": {
    "accelerator": "GPU",
    "colab": {
      "name": "05-Pytorch-MLP_básico.ipynb",
      "provenance": [],
      "collapsed_sections": [
        "wdphVwCopeT5",
        "n2QOf-HEltUP"
      ],
      "include_colab_link": true
    },
    "kernelspec": {
      "display_name": "Python 3",
      "language": "python",
      "name": "python3"
    },
    "language_info": {
      "codemirror_mode": {
        "name": "ipython",
        "version": 3
      },
      "file_extension": ".py",
      "mimetype": "text/x-python",
      "name": "python",
      "nbconvert_exporter": "python",
      "pygments_lexer": "ipython3",
      "version": "3.8.5"
    },
    "widgets": {
      "application/vnd.jupyter.widget-state+json": {
        "711ebe57da1a4b4a81d810f1234788c0": {
          "model_module": "@jupyter-widgets/controls",
          "model_name": "HBoxModel",
          "model_module_version": "1.5.0",
          "state": {
            "_view_name": "HBoxView",
            "_dom_classes": [],
            "_model_name": "HBoxModel",
            "_view_module": "@jupyter-widgets/controls",
            "_model_module_version": "1.5.0",
            "_view_count": null,
            "_view_module_version": "1.5.0",
            "box_style": "",
            "layout": "IPY_MODEL_8e36a6b2592e4912a88ef3e93e498ae9",
            "_model_module": "@jupyter-widgets/controls",
            "children": [
              "IPY_MODEL_70073e890a164d7d8f22ee5464c0329b",
              "IPY_MODEL_817cfacb55034225be70ea8816fffeed",
              "IPY_MODEL_0fd9d1b455d14ad5a04d840d2adc3dbc"
            ]
          }
        },
        "8e36a6b2592e4912a88ef3e93e498ae9": {
          "model_module": "@jupyter-widgets/base",
          "model_name": "LayoutModel",
          "model_module_version": "1.2.0",
          "state": {
            "_view_name": "LayoutView",
            "grid_template_rows": null,
            "right": null,
            "justify_content": null,
            "_view_module": "@jupyter-widgets/base",
            "overflow": null,
            "_model_module_version": "1.2.0",
            "_view_count": null,
            "flex_flow": null,
            "width": null,
            "min_width": null,
            "border": null,
            "align_items": null,
            "bottom": null,
            "_model_module": "@jupyter-widgets/base",
            "top": null,
            "grid_column": null,
            "overflow_y": null,
            "overflow_x": null,
            "grid_auto_flow": null,
            "grid_area": null,
            "grid_template_columns": null,
            "flex": null,
            "_model_name": "LayoutModel",
            "justify_items": null,
            "grid_row": null,
            "max_height": null,
            "align_content": null,
            "visibility": null,
            "align_self": null,
            "height": null,
            "min_height": null,
            "padding": null,
            "grid_auto_rows": null,
            "grid_gap": null,
            "max_width": null,
            "order": null,
            "_view_module_version": "1.2.0",
            "grid_template_areas": null,
            "object_position": null,
            "object_fit": null,
            "grid_auto_columns": null,
            "margin": null,
            "display": null,
            "left": null
          }
        },
        "70073e890a164d7d8f22ee5464c0329b": {
          "model_module": "@jupyter-widgets/controls",
          "model_name": "HTMLModel",
          "model_module_version": "1.5.0",
          "state": {
            "_view_name": "HTMLView",
            "style": "IPY_MODEL_379d55316d4d4475ae819598bd366145",
            "_dom_classes": [],
            "description": "",
            "_model_name": "HTMLModel",
            "placeholder": "​",
            "_view_module": "@jupyter-widgets/controls",
            "_model_module_version": "1.5.0",
            "value": "",
            "_view_count": null,
            "_view_module_version": "1.5.0",
            "description_tooltip": null,
            "_model_module": "@jupyter-widgets/controls",
            "layout": "IPY_MODEL_477ae4d83c8e4f589095177fd3f93c64"
          }
        },
        "817cfacb55034225be70ea8816fffeed": {
          "model_module": "@jupyter-widgets/controls",
          "model_name": "FloatProgressModel",
          "model_module_version": "1.5.0",
          "state": {
            "_view_name": "ProgressView",
            "style": "IPY_MODEL_347c98a56526484aae5f1add89637d84",
            "_dom_classes": [],
            "description": "",
            "_model_name": "FloatProgressModel",
            "bar_style": "success",
            "max": 9912422,
            "_view_module": "@jupyter-widgets/controls",
            "_model_module_version": "1.5.0",
            "value": 9912422,
            "_view_count": null,
            "_view_module_version": "1.5.0",
            "orientation": "horizontal",
            "min": 0,
            "description_tooltip": null,
            "_model_module": "@jupyter-widgets/controls",
            "layout": "IPY_MODEL_4ca77178e264430fa1eab6728b2e8192"
          }
        },
        "0fd9d1b455d14ad5a04d840d2adc3dbc": {
          "model_module": "@jupyter-widgets/controls",
          "model_name": "HTMLModel",
          "model_module_version": "1.5.0",
          "state": {
            "_view_name": "HTMLView",
            "style": "IPY_MODEL_679355a766994623ac44e2af38c02888",
            "_dom_classes": [],
            "description": "",
            "_model_name": "HTMLModel",
            "placeholder": "​",
            "_view_module": "@jupyter-widgets/controls",
            "_model_module_version": "1.5.0",
            "value": " 9913344/? [00:00&lt;00:00, 23350509.58it/s]",
            "_view_count": null,
            "_view_module_version": "1.5.0",
            "description_tooltip": null,
            "_model_module": "@jupyter-widgets/controls",
            "layout": "IPY_MODEL_23ccee04b1c04db1a50b9c0a154b3953"
          }
        },
        "379d55316d4d4475ae819598bd366145": {
          "model_module": "@jupyter-widgets/controls",
          "model_name": "DescriptionStyleModel",
          "model_module_version": "1.5.0",
          "state": {
            "_view_name": "StyleView",
            "_model_name": "DescriptionStyleModel",
            "description_width": "",
            "_view_module": "@jupyter-widgets/base",
            "_model_module_version": "1.5.0",
            "_view_count": null,
            "_view_module_version": "1.2.0",
            "_model_module": "@jupyter-widgets/controls"
          }
        },
        "477ae4d83c8e4f589095177fd3f93c64": {
          "model_module": "@jupyter-widgets/base",
          "model_name": "LayoutModel",
          "model_module_version": "1.2.0",
          "state": {
            "_view_name": "LayoutView",
            "grid_template_rows": null,
            "right": null,
            "justify_content": null,
            "_view_module": "@jupyter-widgets/base",
            "overflow": null,
            "_model_module_version": "1.2.0",
            "_view_count": null,
            "flex_flow": null,
            "width": null,
            "min_width": null,
            "border": null,
            "align_items": null,
            "bottom": null,
            "_model_module": "@jupyter-widgets/base",
            "top": null,
            "grid_column": null,
            "overflow_y": null,
            "overflow_x": null,
            "grid_auto_flow": null,
            "grid_area": null,
            "grid_template_columns": null,
            "flex": null,
            "_model_name": "LayoutModel",
            "justify_items": null,
            "grid_row": null,
            "max_height": null,
            "align_content": null,
            "visibility": null,
            "align_self": null,
            "height": null,
            "min_height": null,
            "padding": null,
            "grid_auto_rows": null,
            "grid_gap": null,
            "max_width": null,
            "order": null,
            "_view_module_version": "1.2.0",
            "grid_template_areas": null,
            "object_position": null,
            "object_fit": null,
            "grid_auto_columns": null,
            "margin": null,
            "display": null,
            "left": null
          }
        },
        "347c98a56526484aae5f1add89637d84": {
          "model_module": "@jupyter-widgets/controls",
          "model_name": "ProgressStyleModel",
          "model_module_version": "1.5.0",
          "state": {
            "_view_name": "StyleView",
            "_model_name": "ProgressStyleModel",
            "description_width": "",
            "_view_module": "@jupyter-widgets/base",
            "_model_module_version": "1.5.0",
            "_view_count": null,
            "_view_module_version": "1.2.0",
            "bar_color": null,
            "_model_module": "@jupyter-widgets/controls"
          }
        },
        "4ca77178e264430fa1eab6728b2e8192": {
          "model_module": "@jupyter-widgets/base",
          "model_name": "LayoutModel",
          "model_module_version": "1.2.0",
          "state": {
            "_view_name": "LayoutView",
            "grid_template_rows": null,
            "right": null,
            "justify_content": null,
            "_view_module": "@jupyter-widgets/base",
            "overflow": null,
            "_model_module_version": "1.2.0",
            "_view_count": null,
            "flex_flow": null,
            "width": null,
            "min_width": null,
            "border": null,
            "align_items": null,
            "bottom": null,
            "_model_module": "@jupyter-widgets/base",
            "top": null,
            "grid_column": null,
            "overflow_y": null,
            "overflow_x": null,
            "grid_auto_flow": null,
            "grid_area": null,
            "grid_template_columns": null,
            "flex": null,
            "_model_name": "LayoutModel",
            "justify_items": null,
            "grid_row": null,
            "max_height": null,
            "align_content": null,
            "visibility": null,
            "align_self": null,
            "height": null,
            "min_height": null,
            "padding": null,
            "grid_auto_rows": null,
            "grid_gap": null,
            "max_width": null,
            "order": null,
            "_view_module_version": "1.2.0",
            "grid_template_areas": null,
            "object_position": null,
            "object_fit": null,
            "grid_auto_columns": null,
            "margin": null,
            "display": null,
            "left": null
          }
        },
        "679355a766994623ac44e2af38c02888": {
          "model_module": "@jupyter-widgets/controls",
          "model_name": "DescriptionStyleModel",
          "model_module_version": "1.5.0",
          "state": {
            "_view_name": "StyleView",
            "_model_name": "DescriptionStyleModel",
            "description_width": "",
            "_view_module": "@jupyter-widgets/base",
            "_model_module_version": "1.5.0",
            "_view_count": null,
            "_view_module_version": "1.2.0",
            "_model_module": "@jupyter-widgets/controls"
          }
        },
        "23ccee04b1c04db1a50b9c0a154b3953": {
          "model_module": "@jupyter-widgets/base",
          "model_name": "LayoutModel",
          "model_module_version": "1.2.0",
          "state": {
            "_view_name": "LayoutView",
            "grid_template_rows": null,
            "right": null,
            "justify_content": null,
            "_view_module": "@jupyter-widgets/base",
            "overflow": null,
            "_model_module_version": "1.2.0",
            "_view_count": null,
            "flex_flow": null,
            "width": null,
            "min_width": null,
            "border": null,
            "align_items": null,
            "bottom": null,
            "_model_module": "@jupyter-widgets/base",
            "top": null,
            "grid_column": null,
            "overflow_y": null,
            "overflow_x": null,
            "grid_auto_flow": null,
            "grid_area": null,
            "grid_template_columns": null,
            "flex": null,
            "_model_name": "LayoutModel",
            "justify_items": null,
            "grid_row": null,
            "max_height": null,
            "align_content": null,
            "visibility": null,
            "align_self": null,
            "height": null,
            "min_height": null,
            "padding": null,
            "grid_auto_rows": null,
            "grid_gap": null,
            "max_width": null,
            "order": null,
            "_view_module_version": "1.2.0",
            "grid_template_areas": null,
            "object_position": null,
            "object_fit": null,
            "grid_auto_columns": null,
            "margin": null,
            "display": null,
            "left": null
          }
        },
        "c751c0288bdd458084287f965d773434": {
          "model_module": "@jupyter-widgets/controls",
          "model_name": "HBoxModel",
          "model_module_version": "1.5.0",
          "state": {
            "_view_name": "HBoxView",
            "_dom_classes": [],
            "_model_name": "HBoxModel",
            "_view_module": "@jupyter-widgets/controls",
            "_model_module_version": "1.5.0",
            "_view_count": null,
            "_view_module_version": "1.5.0",
            "box_style": "",
            "layout": "IPY_MODEL_65c5e2f186344a9598ebc5a2d41b832e",
            "_model_module": "@jupyter-widgets/controls",
            "children": [
              "IPY_MODEL_6426e87401d54d6cb2e70cb41ee78a2f",
              "IPY_MODEL_dfd28ca8c8224261be88ac68699c436b",
              "IPY_MODEL_d9483f3badd24967b7745fa9a2bcfc1b"
            ]
          }
        },
        "65c5e2f186344a9598ebc5a2d41b832e": {
          "model_module": "@jupyter-widgets/base",
          "model_name": "LayoutModel",
          "model_module_version": "1.2.0",
          "state": {
            "_view_name": "LayoutView",
            "grid_template_rows": null,
            "right": null,
            "justify_content": null,
            "_view_module": "@jupyter-widgets/base",
            "overflow": null,
            "_model_module_version": "1.2.0",
            "_view_count": null,
            "flex_flow": null,
            "width": null,
            "min_width": null,
            "border": null,
            "align_items": null,
            "bottom": null,
            "_model_module": "@jupyter-widgets/base",
            "top": null,
            "grid_column": null,
            "overflow_y": null,
            "overflow_x": null,
            "grid_auto_flow": null,
            "grid_area": null,
            "grid_template_columns": null,
            "flex": null,
            "_model_name": "LayoutModel",
            "justify_items": null,
            "grid_row": null,
            "max_height": null,
            "align_content": null,
            "visibility": null,
            "align_self": null,
            "height": null,
            "min_height": null,
            "padding": null,
            "grid_auto_rows": null,
            "grid_gap": null,
            "max_width": null,
            "order": null,
            "_view_module_version": "1.2.0",
            "grid_template_areas": null,
            "object_position": null,
            "object_fit": null,
            "grid_auto_columns": null,
            "margin": null,
            "display": null,
            "left": null
          }
        },
        "6426e87401d54d6cb2e70cb41ee78a2f": {
          "model_module": "@jupyter-widgets/controls",
          "model_name": "HTMLModel",
          "model_module_version": "1.5.0",
          "state": {
            "_view_name": "HTMLView",
            "style": "IPY_MODEL_63f6c5d9b0544e3fb61ab7a7b9f7e4ce",
            "_dom_classes": [],
            "description": "",
            "_model_name": "HTMLModel",
            "placeholder": "​",
            "_view_module": "@jupyter-widgets/controls",
            "_model_module_version": "1.5.0",
            "value": "",
            "_view_count": null,
            "_view_module_version": "1.5.0",
            "description_tooltip": null,
            "_model_module": "@jupyter-widgets/controls",
            "layout": "IPY_MODEL_a27c736a69494ad9b74c13d9dffd841e"
          }
        },
        "dfd28ca8c8224261be88ac68699c436b": {
          "model_module": "@jupyter-widgets/controls",
          "model_name": "FloatProgressModel",
          "model_module_version": "1.5.0",
          "state": {
            "_view_name": "ProgressView",
            "style": "IPY_MODEL_abc4bd26c0904788b3fb2775439fc606",
            "_dom_classes": [],
            "description": "",
            "_model_name": "FloatProgressModel",
            "bar_style": "success",
            "max": 28881,
            "_view_module": "@jupyter-widgets/controls",
            "_model_module_version": "1.5.0",
            "value": 28881,
            "_view_count": null,
            "_view_module_version": "1.5.0",
            "orientation": "horizontal",
            "min": 0,
            "description_tooltip": null,
            "_model_module": "@jupyter-widgets/controls",
            "layout": "IPY_MODEL_b731dfc622e04dc2b8f5752c831768f4"
          }
        },
        "d9483f3badd24967b7745fa9a2bcfc1b": {
          "model_module": "@jupyter-widgets/controls",
          "model_name": "HTMLModel",
          "model_module_version": "1.5.0",
          "state": {
            "_view_name": "HTMLView",
            "style": "IPY_MODEL_427b9d457e9444e29dffef27e09ec98d",
            "_dom_classes": [],
            "description": "",
            "_model_name": "HTMLModel",
            "placeholder": "​",
            "_view_module": "@jupyter-widgets/controls",
            "_model_module_version": "1.5.0",
            "value": " 29696/? [00:00&lt;00:00, 716890.86it/s]",
            "_view_count": null,
            "_view_module_version": "1.5.0",
            "description_tooltip": null,
            "_model_module": "@jupyter-widgets/controls",
            "layout": "IPY_MODEL_4446c7d4f88f499eb6a509db97c047c4"
          }
        },
        "63f6c5d9b0544e3fb61ab7a7b9f7e4ce": {
          "model_module": "@jupyter-widgets/controls",
          "model_name": "DescriptionStyleModel",
          "model_module_version": "1.5.0",
          "state": {
            "_view_name": "StyleView",
            "_model_name": "DescriptionStyleModel",
            "description_width": "",
            "_view_module": "@jupyter-widgets/base",
            "_model_module_version": "1.5.0",
            "_view_count": null,
            "_view_module_version": "1.2.0",
            "_model_module": "@jupyter-widgets/controls"
          }
        },
        "a27c736a69494ad9b74c13d9dffd841e": {
          "model_module": "@jupyter-widgets/base",
          "model_name": "LayoutModel",
          "model_module_version": "1.2.0",
          "state": {
            "_view_name": "LayoutView",
            "grid_template_rows": null,
            "right": null,
            "justify_content": null,
            "_view_module": "@jupyter-widgets/base",
            "overflow": null,
            "_model_module_version": "1.2.0",
            "_view_count": null,
            "flex_flow": null,
            "width": null,
            "min_width": null,
            "border": null,
            "align_items": null,
            "bottom": null,
            "_model_module": "@jupyter-widgets/base",
            "top": null,
            "grid_column": null,
            "overflow_y": null,
            "overflow_x": null,
            "grid_auto_flow": null,
            "grid_area": null,
            "grid_template_columns": null,
            "flex": null,
            "_model_name": "LayoutModel",
            "justify_items": null,
            "grid_row": null,
            "max_height": null,
            "align_content": null,
            "visibility": null,
            "align_self": null,
            "height": null,
            "min_height": null,
            "padding": null,
            "grid_auto_rows": null,
            "grid_gap": null,
            "max_width": null,
            "order": null,
            "_view_module_version": "1.2.0",
            "grid_template_areas": null,
            "object_position": null,
            "object_fit": null,
            "grid_auto_columns": null,
            "margin": null,
            "display": null,
            "left": null
          }
        },
        "abc4bd26c0904788b3fb2775439fc606": {
          "model_module": "@jupyter-widgets/controls",
          "model_name": "ProgressStyleModel",
          "model_module_version": "1.5.0",
          "state": {
            "_view_name": "StyleView",
            "_model_name": "ProgressStyleModel",
            "description_width": "",
            "_view_module": "@jupyter-widgets/base",
            "_model_module_version": "1.5.0",
            "_view_count": null,
            "_view_module_version": "1.2.0",
            "bar_color": null,
            "_model_module": "@jupyter-widgets/controls"
          }
        },
        "b731dfc622e04dc2b8f5752c831768f4": {
          "model_module": "@jupyter-widgets/base",
          "model_name": "LayoutModel",
          "model_module_version": "1.2.0",
          "state": {
            "_view_name": "LayoutView",
            "grid_template_rows": null,
            "right": null,
            "justify_content": null,
            "_view_module": "@jupyter-widgets/base",
            "overflow": null,
            "_model_module_version": "1.2.0",
            "_view_count": null,
            "flex_flow": null,
            "width": null,
            "min_width": null,
            "border": null,
            "align_items": null,
            "bottom": null,
            "_model_module": "@jupyter-widgets/base",
            "top": null,
            "grid_column": null,
            "overflow_y": null,
            "overflow_x": null,
            "grid_auto_flow": null,
            "grid_area": null,
            "grid_template_columns": null,
            "flex": null,
            "_model_name": "LayoutModel",
            "justify_items": null,
            "grid_row": null,
            "max_height": null,
            "align_content": null,
            "visibility": null,
            "align_self": null,
            "height": null,
            "min_height": null,
            "padding": null,
            "grid_auto_rows": null,
            "grid_gap": null,
            "max_width": null,
            "order": null,
            "_view_module_version": "1.2.0",
            "grid_template_areas": null,
            "object_position": null,
            "object_fit": null,
            "grid_auto_columns": null,
            "margin": null,
            "display": null,
            "left": null
          }
        },
        "427b9d457e9444e29dffef27e09ec98d": {
          "model_module": "@jupyter-widgets/controls",
          "model_name": "DescriptionStyleModel",
          "model_module_version": "1.5.0",
          "state": {
            "_view_name": "StyleView",
            "_model_name": "DescriptionStyleModel",
            "description_width": "",
            "_view_module": "@jupyter-widgets/base",
            "_model_module_version": "1.5.0",
            "_view_count": null,
            "_view_module_version": "1.2.0",
            "_model_module": "@jupyter-widgets/controls"
          }
        },
        "4446c7d4f88f499eb6a509db97c047c4": {
          "model_module": "@jupyter-widgets/base",
          "model_name": "LayoutModel",
          "model_module_version": "1.2.0",
          "state": {
            "_view_name": "LayoutView",
            "grid_template_rows": null,
            "right": null,
            "justify_content": null,
            "_view_module": "@jupyter-widgets/base",
            "overflow": null,
            "_model_module_version": "1.2.0",
            "_view_count": null,
            "flex_flow": null,
            "width": null,
            "min_width": null,
            "border": null,
            "align_items": null,
            "bottom": null,
            "_model_module": "@jupyter-widgets/base",
            "top": null,
            "grid_column": null,
            "overflow_y": null,
            "overflow_x": null,
            "grid_auto_flow": null,
            "grid_area": null,
            "grid_template_columns": null,
            "flex": null,
            "_model_name": "LayoutModel",
            "justify_items": null,
            "grid_row": null,
            "max_height": null,
            "align_content": null,
            "visibility": null,
            "align_self": null,
            "height": null,
            "min_height": null,
            "padding": null,
            "grid_auto_rows": null,
            "grid_gap": null,
            "max_width": null,
            "order": null,
            "_view_module_version": "1.2.0",
            "grid_template_areas": null,
            "object_position": null,
            "object_fit": null,
            "grid_auto_columns": null,
            "margin": null,
            "display": null,
            "left": null
          }
        },
        "4e80d7936d3f496aa431f84d2190081f": {
          "model_module": "@jupyter-widgets/controls",
          "model_name": "HBoxModel",
          "model_module_version": "1.5.0",
          "state": {
            "_view_name": "HBoxView",
            "_dom_classes": [],
            "_model_name": "HBoxModel",
            "_view_module": "@jupyter-widgets/controls",
            "_model_module_version": "1.5.0",
            "_view_count": null,
            "_view_module_version": "1.5.0",
            "box_style": "",
            "layout": "IPY_MODEL_bf56f56578d5427c98322868c348a833",
            "_model_module": "@jupyter-widgets/controls",
            "children": [
              "IPY_MODEL_7c146ff91f1a4950afcc5c6036a93108",
              "IPY_MODEL_62d203ef8f594c9ab73b464d2f596281",
              "IPY_MODEL_3a0099cb20c14a999035f1b97d39498c"
            ]
          }
        },
        "bf56f56578d5427c98322868c348a833": {
          "model_module": "@jupyter-widgets/base",
          "model_name": "LayoutModel",
          "model_module_version": "1.2.0",
          "state": {
            "_view_name": "LayoutView",
            "grid_template_rows": null,
            "right": null,
            "justify_content": null,
            "_view_module": "@jupyter-widgets/base",
            "overflow": null,
            "_model_module_version": "1.2.0",
            "_view_count": null,
            "flex_flow": null,
            "width": null,
            "min_width": null,
            "border": null,
            "align_items": null,
            "bottom": null,
            "_model_module": "@jupyter-widgets/base",
            "top": null,
            "grid_column": null,
            "overflow_y": null,
            "overflow_x": null,
            "grid_auto_flow": null,
            "grid_area": null,
            "grid_template_columns": null,
            "flex": null,
            "_model_name": "LayoutModel",
            "justify_items": null,
            "grid_row": null,
            "max_height": null,
            "align_content": null,
            "visibility": null,
            "align_self": null,
            "height": null,
            "min_height": null,
            "padding": null,
            "grid_auto_rows": null,
            "grid_gap": null,
            "max_width": null,
            "order": null,
            "_view_module_version": "1.2.0",
            "grid_template_areas": null,
            "object_position": null,
            "object_fit": null,
            "grid_auto_columns": null,
            "margin": null,
            "display": null,
            "left": null
          }
        },
        "7c146ff91f1a4950afcc5c6036a93108": {
          "model_module": "@jupyter-widgets/controls",
          "model_name": "HTMLModel",
          "model_module_version": "1.5.0",
          "state": {
            "_view_name": "HTMLView",
            "style": "IPY_MODEL_887f3ff6b93e4a23b31d1a4b17b2b4bf",
            "_dom_classes": [],
            "description": "",
            "_model_name": "HTMLModel",
            "placeholder": "​",
            "_view_module": "@jupyter-widgets/controls",
            "_model_module_version": "1.5.0",
            "value": "",
            "_view_count": null,
            "_view_module_version": "1.5.0",
            "description_tooltip": null,
            "_model_module": "@jupyter-widgets/controls",
            "layout": "IPY_MODEL_a92fab145483495583e097bf9f76b8c1"
          }
        },
        "62d203ef8f594c9ab73b464d2f596281": {
          "model_module": "@jupyter-widgets/controls",
          "model_name": "FloatProgressModel",
          "model_module_version": "1.5.0",
          "state": {
            "_view_name": "ProgressView",
            "style": "IPY_MODEL_413c55efb32d43d69cbaec8bea267345",
            "_dom_classes": [],
            "description": "",
            "_model_name": "FloatProgressModel",
            "bar_style": "success",
            "max": 1648877,
            "_view_module": "@jupyter-widgets/controls",
            "_model_module_version": "1.5.0",
            "value": 1648877,
            "_view_count": null,
            "_view_module_version": "1.5.0",
            "orientation": "horizontal",
            "min": 0,
            "description_tooltip": null,
            "_model_module": "@jupyter-widgets/controls",
            "layout": "IPY_MODEL_466777cadf8a4f968aca4642a3ade962"
          }
        },
        "3a0099cb20c14a999035f1b97d39498c": {
          "model_module": "@jupyter-widgets/controls",
          "model_name": "HTMLModel",
          "model_module_version": "1.5.0",
          "state": {
            "_view_name": "HTMLView",
            "style": "IPY_MODEL_e08646e7266a49d59ccd478beb3d60e0",
            "_dom_classes": [],
            "description": "",
            "_model_name": "HTMLModel",
            "placeholder": "​",
            "_view_module": "@jupyter-widgets/controls",
            "_model_module_version": "1.5.0",
            "value": " 1649664/? [00:00&lt;00:00, 18427935.73it/s]",
            "_view_count": null,
            "_view_module_version": "1.5.0",
            "description_tooltip": null,
            "_model_module": "@jupyter-widgets/controls",
            "layout": "IPY_MODEL_d3fa8e3911654a6a86f17e7227c09122"
          }
        },
        "887f3ff6b93e4a23b31d1a4b17b2b4bf": {
          "model_module": "@jupyter-widgets/controls",
          "model_name": "DescriptionStyleModel",
          "model_module_version": "1.5.0",
          "state": {
            "_view_name": "StyleView",
            "_model_name": "DescriptionStyleModel",
            "description_width": "",
            "_view_module": "@jupyter-widgets/base",
            "_model_module_version": "1.5.0",
            "_view_count": null,
            "_view_module_version": "1.2.0",
            "_model_module": "@jupyter-widgets/controls"
          }
        },
        "a92fab145483495583e097bf9f76b8c1": {
          "model_module": "@jupyter-widgets/base",
          "model_name": "LayoutModel",
          "model_module_version": "1.2.0",
          "state": {
            "_view_name": "LayoutView",
            "grid_template_rows": null,
            "right": null,
            "justify_content": null,
            "_view_module": "@jupyter-widgets/base",
            "overflow": null,
            "_model_module_version": "1.2.0",
            "_view_count": null,
            "flex_flow": null,
            "width": null,
            "min_width": null,
            "border": null,
            "align_items": null,
            "bottom": null,
            "_model_module": "@jupyter-widgets/base",
            "top": null,
            "grid_column": null,
            "overflow_y": null,
            "overflow_x": null,
            "grid_auto_flow": null,
            "grid_area": null,
            "grid_template_columns": null,
            "flex": null,
            "_model_name": "LayoutModel",
            "justify_items": null,
            "grid_row": null,
            "max_height": null,
            "align_content": null,
            "visibility": null,
            "align_self": null,
            "height": null,
            "min_height": null,
            "padding": null,
            "grid_auto_rows": null,
            "grid_gap": null,
            "max_width": null,
            "order": null,
            "_view_module_version": "1.2.0",
            "grid_template_areas": null,
            "object_position": null,
            "object_fit": null,
            "grid_auto_columns": null,
            "margin": null,
            "display": null,
            "left": null
          }
        },
        "413c55efb32d43d69cbaec8bea267345": {
          "model_module": "@jupyter-widgets/controls",
          "model_name": "ProgressStyleModel",
          "model_module_version": "1.5.0",
          "state": {
            "_view_name": "StyleView",
            "_model_name": "ProgressStyleModel",
            "description_width": "",
            "_view_module": "@jupyter-widgets/base",
            "_model_module_version": "1.5.0",
            "_view_count": null,
            "_view_module_version": "1.2.0",
            "bar_color": null,
            "_model_module": "@jupyter-widgets/controls"
          }
        },
        "466777cadf8a4f968aca4642a3ade962": {
          "model_module": "@jupyter-widgets/base",
          "model_name": "LayoutModel",
          "model_module_version": "1.2.0",
          "state": {
            "_view_name": "LayoutView",
            "grid_template_rows": null,
            "right": null,
            "justify_content": null,
            "_view_module": "@jupyter-widgets/base",
            "overflow": null,
            "_model_module_version": "1.2.0",
            "_view_count": null,
            "flex_flow": null,
            "width": null,
            "min_width": null,
            "border": null,
            "align_items": null,
            "bottom": null,
            "_model_module": "@jupyter-widgets/base",
            "top": null,
            "grid_column": null,
            "overflow_y": null,
            "overflow_x": null,
            "grid_auto_flow": null,
            "grid_area": null,
            "grid_template_columns": null,
            "flex": null,
            "_model_name": "LayoutModel",
            "justify_items": null,
            "grid_row": null,
            "max_height": null,
            "align_content": null,
            "visibility": null,
            "align_self": null,
            "height": null,
            "min_height": null,
            "padding": null,
            "grid_auto_rows": null,
            "grid_gap": null,
            "max_width": null,
            "order": null,
            "_view_module_version": "1.2.0",
            "grid_template_areas": null,
            "object_position": null,
            "object_fit": null,
            "grid_auto_columns": null,
            "margin": null,
            "display": null,
            "left": null
          }
        },
        "e08646e7266a49d59ccd478beb3d60e0": {
          "model_module": "@jupyter-widgets/controls",
          "model_name": "DescriptionStyleModel",
          "model_module_version": "1.5.0",
          "state": {
            "_view_name": "StyleView",
            "_model_name": "DescriptionStyleModel",
            "description_width": "",
            "_view_module": "@jupyter-widgets/base",
            "_model_module_version": "1.5.0",
            "_view_count": null,
            "_view_module_version": "1.2.0",
            "_model_module": "@jupyter-widgets/controls"
          }
        },
        "d3fa8e3911654a6a86f17e7227c09122": {
          "model_module": "@jupyter-widgets/base",
          "model_name": "LayoutModel",
          "model_module_version": "1.2.0",
          "state": {
            "_view_name": "LayoutView",
            "grid_template_rows": null,
            "right": null,
            "justify_content": null,
            "_view_module": "@jupyter-widgets/base",
            "overflow": null,
            "_model_module_version": "1.2.0",
            "_view_count": null,
            "flex_flow": null,
            "width": null,
            "min_width": null,
            "border": null,
            "align_items": null,
            "bottom": null,
            "_model_module": "@jupyter-widgets/base",
            "top": null,
            "grid_column": null,
            "overflow_y": null,
            "overflow_x": null,
            "grid_auto_flow": null,
            "grid_area": null,
            "grid_template_columns": null,
            "flex": null,
            "_model_name": "LayoutModel",
            "justify_items": null,
            "grid_row": null,
            "max_height": null,
            "align_content": null,
            "visibility": null,
            "align_self": null,
            "height": null,
            "min_height": null,
            "padding": null,
            "grid_auto_rows": null,
            "grid_gap": null,
            "max_width": null,
            "order": null,
            "_view_module_version": "1.2.0",
            "grid_template_areas": null,
            "object_position": null,
            "object_fit": null,
            "grid_auto_columns": null,
            "margin": null,
            "display": null,
            "left": null
          }
        },
        "405c4af0b2704faaace8d0f175fa89b2": {
          "model_module": "@jupyter-widgets/controls",
          "model_name": "HBoxModel",
          "model_module_version": "1.5.0",
          "state": {
            "_view_name": "HBoxView",
            "_dom_classes": [],
            "_model_name": "HBoxModel",
            "_view_module": "@jupyter-widgets/controls",
            "_model_module_version": "1.5.0",
            "_view_count": null,
            "_view_module_version": "1.5.0",
            "box_style": "",
            "layout": "IPY_MODEL_f9f48be15d6940889b199396ce8856ba",
            "_model_module": "@jupyter-widgets/controls",
            "children": [
              "IPY_MODEL_ab9e3807a6d1473887c4752b0b605fb3",
              "IPY_MODEL_5c311aa4af4a42979d911810e553dba3",
              "IPY_MODEL_447fdd375846435ca0ffbf3343682682"
            ]
          }
        },
        "f9f48be15d6940889b199396ce8856ba": {
          "model_module": "@jupyter-widgets/base",
          "model_name": "LayoutModel",
          "model_module_version": "1.2.0",
          "state": {
            "_view_name": "LayoutView",
            "grid_template_rows": null,
            "right": null,
            "justify_content": null,
            "_view_module": "@jupyter-widgets/base",
            "overflow": null,
            "_model_module_version": "1.2.0",
            "_view_count": null,
            "flex_flow": null,
            "width": null,
            "min_width": null,
            "border": null,
            "align_items": null,
            "bottom": null,
            "_model_module": "@jupyter-widgets/base",
            "top": null,
            "grid_column": null,
            "overflow_y": null,
            "overflow_x": null,
            "grid_auto_flow": null,
            "grid_area": null,
            "grid_template_columns": null,
            "flex": null,
            "_model_name": "LayoutModel",
            "justify_items": null,
            "grid_row": null,
            "max_height": null,
            "align_content": null,
            "visibility": null,
            "align_self": null,
            "height": null,
            "min_height": null,
            "padding": null,
            "grid_auto_rows": null,
            "grid_gap": null,
            "max_width": null,
            "order": null,
            "_view_module_version": "1.2.0",
            "grid_template_areas": null,
            "object_position": null,
            "object_fit": null,
            "grid_auto_columns": null,
            "margin": null,
            "display": null,
            "left": null
          }
        },
        "ab9e3807a6d1473887c4752b0b605fb3": {
          "model_module": "@jupyter-widgets/controls",
          "model_name": "HTMLModel",
          "model_module_version": "1.5.0",
          "state": {
            "_view_name": "HTMLView",
            "style": "IPY_MODEL_5bbf5f2f2cf44d27aa0ab933b0d55d15",
            "_dom_classes": [],
            "description": "",
            "_model_name": "HTMLModel",
            "placeholder": "​",
            "_view_module": "@jupyter-widgets/controls",
            "_model_module_version": "1.5.0",
            "value": "",
            "_view_count": null,
            "_view_module_version": "1.5.0",
            "description_tooltip": null,
            "_model_module": "@jupyter-widgets/controls",
            "layout": "IPY_MODEL_023d51e3e08c4f2692ae8139c6cdb58e"
          }
        },
        "5c311aa4af4a42979d911810e553dba3": {
          "model_module": "@jupyter-widgets/controls",
          "model_name": "FloatProgressModel",
          "model_module_version": "1.5.0",
          "state": {
            "_view_name": "ProgressView",
            "style": "IPY_MODEL_0ced6e462c314226ba004e60c6621651",
            "_dom_classes": [],
            "description": "",
            "_model_name": "FloatProgressModel",
            "bar_style": "success",
            "max": 4542,
            "_view_module": "@jupyter-widgets/controls",
            "_model_module_version": "1.5.0",
            "value": 4542,
            "_view_count": null,
            "_view_module_version": "1.5.0",
            "orientation": "horizontal",
            "min": 0,
            "description_tooltip": null,
            "_model_module": "@jupyter-widgets/controls",
            "layout": "IPY_MODEL_a90055d21454484f86670fa805a7f93f"
          }
        },
        "447fdd375846435ca0ffbf3343682682": {
          "model_module": "@jupyter-widgets/controls",
          "model_name": "HTMLModel",
          "model_module_version": "1.5.0",
          "state": {
            "_view_name": "HTMLView",
            "style": "IPY_MODEL_8e80af2ad0914b8689e87e395f99ef48",
            "_dom_classes": [],
            "description": "",
            "_model_name": "HTMLModel",
            "placeholder": "​",
            "_view_module": "@jupyter-widgets/controls",
            "_model_module_version": "1.5.0",
            "value": " 5120/? [00:00&lt;00:00, 137093.26it/s]",
            "_view_count": null,
            "_view_module_version": "1.5.0",
            "description_tooltip": null,
            "_model_module": "@jupyter-widgets/controls",
            "layout": "IPY_MODEL_282f70c1e3914ada806996660732b9aa"
          }
        },
        "5bbf5f2f2cf44d27aa0ab933b0d55d15": {
          "model_module": "@jupyter-widgets/controls",
          "model_name": "DescriptionStyleModel",
          "model_module_version": "1.5.0",
          "state": {
            "_view_name": "StyleView",
            "_model_name": "DescriptionStyleModel",
            "description_width": "",
            "_view_module": "@jupyter-widgets/base",
            "_model_module_version": "1.5.0",
            "_view_count": null,
            "_view_module_version": "1.2.0",
            "_model_module": "@jupyter-widgets/controls"
          }
        },
        "023d51e3e08c4f2692ae8139c6cdb58e": {
          "model_module": "@jupyter-widgets/base",
          "model_name": "LayoutModel",
          "model_module_version": "1.2.0",
          "state": {
            "_view_name": "LayoutView",
            "grid_template_rows": null,
            "right": null,
            "justify_content": null,
            "_view_module": "@jupyter-widgets/base",
            "overflow": null,
            "_model_module_version": "1.2.0",
            "_view_count": null,
            "flex_flow": null,
            "width": null,
            "min_width": null,
            "border": null,
            "align_items": null,
            "bottom": null,
            "_model_module": "@jupyter-widgets/base",
            "top": null,
            "grid_column": null,
            "overflow_y": null,
            "overflow_x": null,
            "grid_auto_flow": null,
            "grid_area": null,
            "grid_template_columns": null,
            "flex": null,
            "_model_name": "LayoutModel",
            "justify_items": null,
            "grid_row": null,
            "max_height": null,
            "align_content": null,
            "visibility": null,
            "align_self": null,
            "height": null,
            "min_height": null,
            "padding": null,
            "grid_auto_rows": null,
            "grid_gap": null,
            "max_width": null,
            "order": null,
            "_view_module_version": "1.2.0",
            "grid_template_areas": null,
            "object_position": null,
            "object_fit": null,
            "grid_auto_columns": null,
            "margin": null,
            "display": null,
            "left": null
          }
        },
        "0ced6e462c314226ba004e60c6621651": {
          "model_module": "@jupyter-widgets/controls",
          "model_name": "ProgressStyleModel",
          "model_module_version": "1.5.0",
          "state": {
            "_view_name": "StyleView",
            "_model_name": "ProgressStyleModel",
            "description_width": "",
            "_view_module": "@jupyter-widgets/base",
            "_model_module_version": "1.5.0",
            "_view_count": null,
            "_view_module_version": "1.2.0",
            "bar_color": null,
            "_model_module": "@jupyter-widgets/controls"
          }
        },
        "a90055d21454484f86670fa805a7f93f": {
          "model_module": "@jupyter-widgets/base",
          "model_name": "LayoutModel",
          "model_module_version": "1.2.0",
          "state": {
            "_view_name": "LayoutView",
            "grid_template_rows": null,
            "right": null,
            "justify_content": null,
            "_view_module": "@jupyter-widgets/base",
            "overflow": null,
            "_model_module_version": "1.2.0",
            "_view_count": null,
            "flex_flow": null,
            "width": null,
            "min_width": null,
            "border": null,
            "align_items": null,
            "bottom": null,
            "_model_module": "@jupyter-widgets/base",
            "top": null,
            "grid_column": null,
            "overflow_y": null,
            "overflow_x": null,
            "grid_auto_flow": null,
            "grid_area": null,
            "grid_template_columns": null,
            "flex": null,
            "_model_name": "LayoutModel",
            "justify_items": null,
            "grid_row": null,
            "max_height": null,
            "align_content": null,
            "visibility": null,
            "align_self": null,
            "height": null,
            "min_height": null,
            "padding": null,
            "grid_auto_rows": null,
            "grid_gap": null,
            "max_width": null,
            "order": null,
            "_view_module_version": "1.2.0",
            "grid_template_areas": null,
            "object_position": null,
            "object_fit": null,
            "grid_auto_columns": null,
            "margin": null,
            "display": null,
            "left": null
          }
        },
        "8e80af2ad0914b8689e87e395f99ef48": {
          "model_module": "@jupyter-widgets/controls",
          "model_name": "DescriptionStyleModel",
          "model_module_version": "1.5.0",
          "state": {
            "_view_name": "StyleView",
            "_model_name": "DescriptionStyleModel",
            "description_width": "",
            "_view_module": "@jupyter-widgets/base",
            "_model_module_version": "1.5.0",
            "_view_count": null,
            "_view_module_version": "1.2.0",
            "_model_module": "@jupyter-widgets/controls"
          }
        },
        "282f70c1e3914ada806996660732b9aa": {
          "model_module": "@jupyter-widgets/base",
          "model_name": "LayoutModel",
          "model_module_version": "1.2.0",
          "state": {
            "_view_name": "LayoutView",
            "grid_template_rows": null,
            "right": null,
            "justify_content": null,
            "_view_module": "@jupyter-widgets/base",
            "overflow": null,
            "_model_module_version": "1.2.0",
            "_view_count": null,
            "flex_flow": null,
            "width": null,
            "min_width": null,
            "border": null,
            "align_items": null,
            "bottom": null,
            "_model_module": "@jupyter-widgets/base",
            "top": null,
            "grid_column": null,
            "overflow_y": null,
            "overflow_x": null,
            "grid_auto_flow": null,
            "grid_area": null,
            "grid_template_columns": null,
            "flex": null,
            "_model_name": "LayoutModel",
            "justify_items": null,
            "grid_row": null,
            "max_height": null,
            "align_content": null,
            "visibility": null,
            "align_self": null,
            "height": null,
            "min_height": null,
            "padding": null,
            "grid_auto_rows": null,
            "grid_gap": null,
            "max_width": null,
            "order": null,
            "_view_module_version": "1.2.0",
            "grid_template_areas": null,
            "object_position": null,
            "object_fit": null,
            "grid_auto_columns": null,
            "margin": null,
            "display": null,
            "left": null
          }
        }
      }
    }
  },
  "cells": [
    {
      "cell_type": "markdown",
      "metadata": {
        "id": "view-in-github",
        "colab_type": "text"
      },
      "source": [
        "<a href=\"https://colab.research.google.com/github/camulro/Aprendizaje-II/blob/sesi%C3%B3n1/05_Pytorch_MLP_b%C3%A1sico.ipynb\" target=\"_parent\"><img src=\"https://colab.research.google.com/assets/colab-badge.svg\" alt=\"Open In Colab\"/></a>"
      ]
    },
    {
      "cell_type": "markdown",
      "metadata": {
        "id": "ghPSdPkCrLyk"
      },
      "source": [
        "![IDAL](https://i.imgur.com/tIKXIG1.jpg)  \n",
        "\n",
        "#<strong>**Máster en Inteligencia Artificial Avanzada y Aplicada  IA^3**</strong>\n",
        "---\n"
      ]
    },
    {
      "cell_type": "markdown",
      "metadata": {
        "id": "t_QAY1dE1_93"
      },
      "source": [
        "##<center>**Preceptrón multicapa (_MLP_) con Pytorh** </center>"
      ]
    },
    {
      "cell_type": "markdown",
      "metadata": {
        "id": "zRMQYXirpeT5"
      },
      "source": [
        "En este notebook vamos a estudiar los siguientes aspectos:\n",
        " \n",
        " * Creación de una red neuronal con capas ocultas\n",
        " * Incorporación del uso de funciones de activación no lineales\n",
        " * Aprovechamiento del uso de GPU (si es posible) para acelerar el entrenamiento\n",
        " * Experimentar con hiperparámetros para mejorar el modelo. "
      ]
    },
    {
      "cell_type": "markdown",
      "metadata": {
        "id": "wdphVwCopeT5"
      },
      "source": [
        "### Usando GPU para entrenar más rápido\n",
        "\n",
        "Como ya sabemos, uno de los motivos del gran desarrollo y auge que estamos experimentando en el machine learning y especialmente en deep learning es debido a la posibilidad de aprovechar **GPU** [Graphics Processing Unit](https://en.wikipedia.org/wiki/Graphics_processing_unit)  para entrenar a los modelos de una forma mucho más rápida. \n",
        "Dependiendo de la plataforma que empleemos será conveniente seguir algunas instrucciones: \n",
        "* _Google Colab_: Usa el menu option \"Entorno de Ejecución > Cambiar tipo de entorno de Ejecucion\" y selecciona \"GPU\" del menu \"Acelerador por Hardware\".\n",
        "* _Kaggle Kernel_: En el menu de opciones de la barra superior (los tres puntos), selecciona \"GPU\" del menu \"Acelerador\"\n",
        "* _Linux_: Si tu equipo de sobremesa o portátil tiene una tarjeta NVIDIA GPU (graphics card), asegurate que tienes instalados los drivers correctos y actualizados [Linux NVIDIA CUDA drivers](https://docs.nvidia.com/cuda/cuda-installation-guide-linux/index.html).\n",
        "* _Windows_: Si tu equipo de sobremesa o portátil tiene una tarjeta NVIDIA GPU (graphics card), asegurate que tienes instalados los drivers correctos y actualizados [Windows NVIDIA CUDA drivers](https://docs.nvidia.com/cuda/cuda-installation-guide-microsoft-windows/index.html).\n",
        "* _macOS_: macOS no es compatible con NVIDIA GPUs\n",
        " \n",
        "Si no tienes acceso a GPU no es problema ya que este notebook se puede ejecutar igulmente en una CPU normal ;)"
      ]
    },
    {
      "cell_type": "markdown",
      "metadata": {
        "id": "h1N-aPtrpeT5"
      },
      "source": [
        "## Preparando los datos\n",
        "\n",
        "En el cuaderno anterior, estudiamos como podíamos entrenar un modelo de regresión logística para identificar números escritos a mano del MNIST dataset, obteniendo una precisión de en torno al 86%. Cada número era una imagen de 28x28 píxeles en escala de grises. Recordemos el aspecto que tenía el datasetHere are some sample images from the dataset:\n",
        "\n",
        "![mnist-sample](https://i.imgur.com/CAYnuo1.jpg)\n",
        "\n",
        "Ya vimos que es bastante dificil mejorar dicha precisión, a pesar de dedicar más entrenamiento y jugar con los parámetros, empleando simplemente una regresión logística. Esto es así porque el modelo que desarrollamos asume que hay una relación lineal entre las entradas (intensidades de píxeles) y la salida (el número que representan). Y esto puede (probablemente) no ser cierto. \n",
        "\n",
        "Vamos a desarrollar un nuevo modelo simple de red neuronal que va a ser capaz de capturar esas relaciones no lineales que nos faltan para mejorar el resultado con dicho dataset: un perceptrón multicapa básico. \n",
        "Empezamos importando los módulos y clases necesarios de `torch`, `torchvision`, `numpy`, y `matplotlib`."
      ]
    },
    {
      "cell_type": "code",
      "metadata": {
        "id": "28gVv8fbpeT5"
      },
      "source": [
        "# Si ejecutas el notebook de forma local, descomenta la linea que corresponda a tu sistema operativo para instalar las libreriás correspondientes\n",
        "\n",
        "# Linux / Binder\n",
        "# !pip install numpy matplotlib torch==1.7.0+cpu torchvision==0.8.1+cpu torchaudio==0.7.0 -f https://download.pytorch.org/whl/torch_stable.html\n",
        "\n",
        "# Windows\n",
        "# !pip install numpy matplotlib torch==1.7.0+cpu torchvision==0.8.1+cpu torchaudio==0.7.0 -f https://download.pytorch.org/whl/torch_stable.html\n",
        "\n",
        "# MacOS\n",
        "# !pip install numpy matplotlib torch torchvision torchaudio"
      ],
      "execution_count": null,
      "outputs": []
    },
    {
      "cell_type": "code",
      "metadata": {
        "id": "WapU423CpeT5"
      },
      "source": [
        "import torch\n",
        "import torchvision\n",
        "import numpy as np\n",
        "import matplotlib\n",
        "import matplotlib.pyplot as plt\n",
        "import torch.nn as nn\n",
        "import torch.nn.functional as F\n",
        "from torchvision.datasets import MNIST\n",
        "from torchvision.transforms import ToTensor\n",
        "from torchvision.utils import make_grid\n",
        "from torch.utils.data.dataloader import DataLoader\n",
        "from torch.utils.data import random_split\n",
        "%matplotlib inline\n",
        "\n",
        "# Fondo blanco para todas las figuras matplotlib \n",
        "matplotlib.rcParams['figure.facecolor'] = '#ffffff'"
      ],
      "execution_count": 1,
      "outputs": []
    },
    {
      "cell_type": "markdown",
      "metadata": {
        "id": "wa8Y7hGhpeT5"
      },
      "source": [
        "Descargamos los datos y generamos un PyTorch dataset a partir de la clase` MNIST` de `torchvision.datasets`. "
      ]
    },
    {
      "cell_type": "code",
      "metadata": {
        "id": "CCfhGj-IpeT5",
        "colab": {
          "base_uri": "https://localhost:8080/",
          "height": 422,
          "referenced_widgets": [
            "711ebe57da1a4b4a81d810f1234788c0",
            "8e36a6b2592e4912a88ef3e93e498ae9",
            "70073e890a164d7d8f22ee5464c0329b",
            "817cfacb55034225be70ea8816fffeed",
            "0fd9d1b455d14ad5a04d840d2adc3dbc",
            "379d55316d4d4475ae819598bd366145",
            "477ae4d83c8e4f589095177fd3f93c64",
            "347c98a56526484aae5f1add89637d84",
            "4ca77178e264430fa1eab6728b2e8192",
            "679355a766994623ac44e2af38c02888",
            "23ccee04b1c04db1a50b9c0a154b3953",
            "c751c0288bdd458084287f965d773434",
            "65c5e2f186344a9598ebc5a2d41b832e",
            "6426e87401d54d6cb2e70cb41ee78a2f",
            "dfd28ca8c8224261be88ac68699c436b",
            "d9483f3badd24967b7745fa9a2bcfc1b",
            "63f6c5d9b0544e3fb61ab7a7b9f7e4ce",
            "a27c736a69494ad9b74c13d9dffd841e",
            "abc4bd26c0904788b3fb2775439fc606",
            "b731dfc622e04dc2b8f5752c831768f4",
            "427b9d457e9444e29dffef27e09ec98d",
            "4446c7d4f88f499eb6a509db97c047c4",
            "4e80d7936d3f496aa431f84d2190081f",
            "bf56f56578d5427c98322868c348a833",
            "7c146ff91f1a4950afcc5c6036a93108",
            "62d203ef8f594c9ab73b464d2f596281",
            "3a0099cb20c14a999035f1b97d39498c",
            "887f3ff6b93e4a23b31d1a4b17b2b4bf",
            "a92fab145483495583e097bf9f76b8c1",
            "413c55efb32d43d69cbaec8bea267345",
            "466777cadf8a4f968aca4642a3ade962",
            "e08646e7266a49d59ccd478beb3d60e0",
            "d3fa8e3911654a6a86f17e7227c09122",
            "405c4af0b2704faaace8d0f175fa89b2",
            "f9f48be15d6940889b199396ce8856ba",
            "ab9e3807a6d1473887c4752b0b605fb3",
            "5c311aa4af4a42979d911810e553dba3",
            "447fdd375846435ca0ffbf3343682682",
            "5bbf5f2f2cf44d27aa0ab933b0d55d15",
            "023d51e3e08c4f2692ae8139c6cdb58e",
            "0ced6e462c314226ba004e60c6621651",
            "a90055d21454484f86670fa805a7f93f",
            "8e80af2ad0914b8689e87e395f99ef48",
            "282f70c1e3914ada806996660732b9aa"
          ]
        },
        "outputId": "67f9efbf-5b57-4144-e510-4d194227bf6e"
      },
      "source": [
        "dataset = MNIST(root='data/', download=True, transform=ToTensor())"
      ],
      "execution_count": 2,
      "outputs": [
        {
          "output_type": "stream",
          "name": "stdout",
          "text": [
            "Downloading http://yann.lecun.com/exdb/mnist/train-images-idx3-ubyte.gz\n",
            "Downloading http://yann.lecun.com/exdb/mnist/train-images-idx3-ubyte.gz to data/MNIST/raw/train-images-idx3-ubyte.gz\n"
          ]
        },
        {
          "output_type": "display_data",
          "data": {
            "application/vnd.jupyter.widget-view+json": {
              "model_id": "711ebe57da1a4b4a81d810f1234788c0",
              "version_minor": 0,
              "version_major": 2
            },
            "text/plain": [
              "  0%|          | 0/9912422 [00:00<?, ?it/s]"
            ]
          },
          "metadata": {}
        },
        {
          "output_type": "stream",
          "name": "stdout",
          "text": [
            "Extracting data/MNIST/raw/train-images-idx3-ubyte.gz to data/MNIST/raw\n",
            "\n",
            "Downloading http://yann.lecun.com/exdb/mnist/train-labels-idx1-ubyte.gz\n",
            "Downloading http://yann.lecun.com/exdb/mnist/train-labels-idx1-ubyte.gz to data/MNIST/raw/train-labels-idx1-ubyte.gz\n"
          ]
        },
        {
          "output_type": "display_data",
          "data": {
            "application/vnd.jupyter.widget-view+json": {
              "model_id": "c751c0288bdd458084287f965d773434",
              "version_minor": 0,
              "version_major": 2
            },
            "text/plain": [
              "  0%|          | 0/28881 [00:00<?, ?it/s]"
            ]
          },
          "metadata": {}
        },
        {
          "output_type": "stream",
          "name": "stdout",
          "text": [
            "Extracting data/MNIST/raw/train-labels-idx1-ubyte.gz to data/MNIST/raw\n",
            "\n",
            "Downloading http://yann.lecun.com/exdb/mnist/t10k-images-idx3-ubyte.gz\n",
            "Downloading http://yann.lecun.com/exdb/mnist/t10k-images-idx3-ubyte.gz to data/MNIST/raw/t10k-images-idx3-ubyte.gz\n"
          ]
        },
        {
          "output_type": "display_data",
          "data": {
            "application/vnd.jupyter.widget-view+json": {
              "model_id": "4e80d7936d3f496aa431f84d2190081f",
              "version_minor": 0,
              "version_major": 2
            },
            "text/plain": [
              "  0%|          | 0/1648877 [00:00<?, ?it/s]"
            ]
          },
          "metadata": {}
        },
        {
          "output_type": "stream",
          "name": "stdout",
          "text": [
            "Extracting data/MNIST/raw/t10k-images-idx3-ubyte.gz to data/MNIST/raw\n",
            "\n",
            "Downloading http://yann.lecun.com/exdb/mnist/t10k-labels-idx1-ubyte.gz\n",
            "Downloading http://yann.lecun.com/exdb/mnist/t10k-labels-idx1-ubyte.gz to data/MNIST/raw/t10k-labels-idx1-ubyte.gz\n"
          ]
        },
        {
          "output_type": "display_data",
          "data": {
            "application/vnd.jupyter.widget-view+json": {
              "model_id": "405c4af0b2704faaace8d0f175fa89b2",
              "version_minor": 0,
              "version_major": 2
            },
            "text/plain": [
              "  0%|          | 0/4542 [00:00<?, ?it/s]"
            ]
          },
          "metadata": {}
        },
        {
          "output_type": "stream",
          "name": "stdout",
          "text": [
            "Extracting data/MNIST/raw/t10k-labels-idx1-ubyte.gz to data/MNIST/raw\n",
            "\n"
          ]
        }
      ]
    },
    {
      "cell_type": "markdown",
      "metadata": {
        "id": "s8PQeFW82eCZ"
      },
      "source": [
        "Vamos a visualizar algunas imágenes. Recordemos que las imagenes han sido convertidas a tensores Pytorch con la forma `1x28x28` (canales de color, ancho y alto). Podemos emplear el método `plt.imshow` para ver las imágenes."
      ]
    },
    {
      "cell_type": "code",
      "metadata": {
        "id": "EBrhzbQF2eCa",
        "colab": {
          "base_uri": "https://localhost:8080/",
          "height": 300
        },
        "outputId": "23d2a2f2-6ed0-4532-ca82-53a468c2609d"
      },
      "source": [
        "image, label = dataset[230]\n",
        "print('image.shape:', image.shape)\n",
        "plt.imshow(image[0], cmap='gray')\n",
        "print('Label:', label)"
      ],
      "execution_count": 3,
      "outputs": [
        {
          "output_type": "stream",
          "name": "stdout",
          "text": [
            "image.shape: torch.Size([1, 28, 28])\n",
            "Label: 7\n"
          ]
        },
        {
          "output_type": "display_data",
          "data": {
            "image/png": "[encoded data removed]",
            "text/plain": [
              "<Figure size 432x288 with 1 Axes>"
            ]
          },
          "metadata": {
            "needs_background": "light"
          }
        }
      ]
    },
    {
      "cell_type": "code",
      "metadata": {
        "id": "qE3SytuD2eCb",
        "colab": {
          "base_uri": "https://localhost:8080/",
          "height": 300
        },
        "outputId": "9beca1a8-5458-4502-dd3a-b029ce75773b"
      },
      "source": [
        "image, label = dataset[1000]\n",
        "print('image.shape:', image.shape)\n",
        "plt.imshow(image[0], cmap='gray')\n",
        "print('Label:', label)"
      ],
      "execution_count": 4,
      "outputs": [
        {
          "output_type": "stream",
          "name": "stdout",
          "text": [
            "image.shape: torch.Size([1, 28, 28])\n",
            "Label: 0\n"
          ]
        },
        {
          "output_type": "display_data",
          "data": {
            "image/png": "[encoded data removed]",
            "text/plain": [
              "<Figure size 432x288 with 1 Axes>"
            ]
          },
          "metadata": {
            "needs_background": "light"
          }
        }
      ]
    },
    {
      "cell_type": "markdown",
      "metadata": {
        "id": "4vjwsyaDpeT5"
      },
      "source": [
        "Ahora empleamos el método `random_split` para \"apartar\" 10000 imagenes para nuestro conjunto de validación."
      ]
    },
    {
      "cell_type": "code",
      "metadata": {
        "id": "Cgek18qlpeT5",
        "colab": {
          "base_uri": "https://localhost:8080/"
        },
        "outputId": "17392cee-81e9-4232-ac9a-132981be779b"
      },
      "source": [
        "val_size = 10000\n",
        "train_size = len(dataset) - val_size\n",
        "\n",
        "train_ds, val_ds = random_split(dataset, [train_size, val_size])\n",
        "len(train_ds), len(val_ds)"
      ],
      "execution_count": 5,
      "outputs": [
        {
          "output_type": "execute_result",
          "data": {
            "text/plain": [
              "(50000, 10000)"
            ]
          },
          "metadata": {},
          "execution_count": 5
        }
      ]
    },
    {
      "cell_type": "markdown",
      "metadata": {
        "id": "PxB8SiaYpeT6"
      },
      "source": [
        "Y ahora creamos los PyTorch data loaders para entrenamiento y validación, teniendo en cuenta un tamaño de lote especificado."
      ]
    },
    {
      "cell_type": "code",
      "metadata": {
        "id": "cK_hoRYSpeT6"
      },
      "source": [
        "batch_size=128"
      ],
      "execution_count": 6,
      "outputs": []
    },
    {
      "cell_type": "code",
      "metadata": {
        "id": "iShTOn-vpeT6"
      },
      "source": [
        "train_loader = DataLoader(train_ds, batch_size, shuffle=True, num_workers=2, pin_memory=True)\n",
        "val_loader = DataLoader(val_ds, batch_size*2, num_workers=2, pin_memory=True) #num_workers intenta aprovechar la cpu"
      ],
      "execution_count": 7,
      "outputs": []
    },
    {
      "cell_type": "code",
      "metadata": {
        "id": "qF5xCrJlZho2",
        "colab": {
          "base_uri": "https://localhost:8080/"
        },
        "outputId": "1bb2b35b-a729-478c-e004-6feee609de8b"
      },
      "source": [
        "len(train_loader)\n"
      ],
      "execution_count": 8,
      "outputs": [
        {
          "output_type": "execute_result",
          "data": {
            "text/plain": [
              "391"
            ]
          },
          "metadata": {},
          "execution_count": 8
        }
      ]
    },
    {
      "cell_type": "code",
      "source": [
        "len(val_loader)"
      ],
      "metadata": {
        "id": "fK4sAOEyMAWv",
        "colab": {
          "base_uri": "https://localhost:8080/"
        },
        "outputId": "c62ac58e-3ab2-4e0f-c58f-f0632a0be06d"
      },
      "execution_count": 9,
      "outputs": [
        {
          "output_type": "execute_result",
          "data": {
            "text/plain": [
              "40"
            ]
          },
          "metadata": {},
          "execution_count": 9
        }
      ]
    },
    {
      "cell_type": "markdown",
      "metadata": {
        "id": "fjucG3lnpeT6"
      },
      "source": [
        "Observesen los argumentos`num_workers` and `pin_memory`? Intenta comprender que hacen consultando la documentación: https://pytorch.org/docs/stable/data.html .\n",
        "\n",
        "Vamos a visualizar un lote de datos en un formato de rejilla o través de la función  `make_grid` de `torchvision`. Empleamos el método `.permute` en el  tensor para mover los canales como la última dimensión, tal como espera `matplotlib`."
      ]
    },
    {
      "cell_type": "code",
      "metadata": {
        "id": "YshQj9srpeT6",
        "colab": {
          "base_uri": "https://localhost:8080/",
          "height": 483
        },
        "outputId": "14feff9a-1127-48f5-e792-543ea980e421"
      },
      "source": [
        "for images, _ in train_loader:\n",
        "    print('images.shape:', images.shape)\n",
        "    plt.figure(figsize=(16,8))\n",
        "    plt.axis('off')\n",
        "    plt.imshow(make_grid(images, nrow=16).permute((1, 2, 0))) #en el tensor original las dimensiones son (18,18,1), permute dice que el 1 lo pase al final\n",
        "    break"
      ],
      "execution_count": 11,
      "outputs": [
        {
          "output_type": "stream",
          "name": "stdout",
          "text": [
            "images.shape: torch.Size([128, 1, 28, 28])\n"
          ]
        },
        {
          "output_type": "display_data",
          "data": {
            "image/png": "[encoded data removed]",
            "text/plain": [
              "<Figure size 1152x576 with 1 Axes>"
            ]
          },
          "metadata": {
            "needs_background": "light"
          }
        }
      ]
    },
    {
      "cell_type": "markdown",
      "metadata": {
        "id": "OKEjn2zvpeT6"
      },
      "source": [
        "## Capas ocultas, funciones de activación y No-linearidad\n",
        "\n",
        "Vamos a crear una red neuronal básica, con una _capa de entrada_, una _capa oculta_  y una _capa de salida_. La capa oculta incorporará una _función de activación_. \n",
        "Vamos a estudiar un ejemplo paso a paso de forma que podamos apreciar como el hecho de emplear capas ocultas y funciones de activación va apermitir capturar esas relaciones no lineales entre entradas y salidas\n",
        "\n",
        "Inicaialmente crearemos un lote de tensores de entrada. \"Extenderemos\" sus dimensiones de imagenes de `1x28x28` a vectores de longitud `784`, y los pasaremos a un objeto `nn.Linear`."
      ]
    },
    {
      "cell_type": "code",
      "metadata": {
        "id": "B5iPCdqEpeT6",
        "colab": {
          "base_uri": "https://localhost:8080/"
        },
        "outputId": "5ed0a5c4-ffe0-4f75-f838-5b6a4c0b0e8d"
      },
      "source": [
        "for images, labels in train_loader:\n",
        "    print('images.shape:', images.shape)\n",
        "    inputs = images.reshape(-1, 784)\n",
        "    print('inputs.shape:', inputs.shape)\n",
        "    break"
      ],
      "execution_count": 12,
      "outputs": [
        {
          "output_type": "stream",
          "name": "stdout",
          "text": [
            "images.shape: torch.Size([128, 1, 28, 28])\n",
            "inputs.shape: torch.Size([128, 784])\n"
          ]
        }
      ]
    },
    {
      "cell_type": "markdown",
      "metadata": {
        "id": "mF__u2QfpeT6"
      },
      "source": [
        "Creamos el objeto `nn.Linear` que emplearemos como capa oculta (_hiden layer_). Adjudicamos un tamaño inicial de 32 neuronas a esta capa. Este número puede ser aumentado o disminuido y eso afectará a la capacidad de aprndizaje que puede desarrollar el modelo. "
      ]
    },
    {
      "cell_type": "code",
      "metadata": {
        "id": "6zXN1c4PpeT6"
      },
      "source": [
        "input_size = inputs.shape[-1]\n",
        "hidden_size = 32 #num neuronas en la capa oculta"
      ],
      "execution_count": 13,
      "outputs": []
    },
    {
      "cell_type": "code",
      "source": [
        "input_size"
      ],
      "metadata": {
        "id": "s6cACsGAMhdt",
        "colab": {
          "base_uri": "https://localhost:8080/"
        },
        "outputId": "dfccfb61-d4be-4aaa-b46d-a39c31a95078"
      },
      "execution_count": 14,
      "outputs": [
        {
          "output_type": "execute_result",
          "data": {
            "text/plain": [
              "784"
            ]
          },
          "metadata": {},
          "execution_count": 14
        }
      ]
    },
    {
      "cell_type": "code",
      "metadata": {
        "id": "oOAh7CLZpeT7"
      },
      "source": [
        "layer1 = nn.Linear(input_size, hidden_size)"
      ],
      "execution_count": 15,
      "outputs": []
    },
    {
      "cell_type": "markdown",
      "metadata": {
        "id": "YzqPBDuypeT7"
      },
      "source": [
        "Las salidas intermedas las obtenemos pasando las entradas `inputs` a través de `layer1`."
      ]
    },
    {
      "cell_type": "code",
      "metadata": {
        "id": "zd0YcDIlcCKb",
        "colab": {
          "base_uri": "https://localhost:8080/"
        },
        "outputId": "7fa92cc7-7bc9-445b-b53c-726756561120"
      },
      "source": [
        "inputs.shape"
      ],
      "execution_count": 16,
      "outputs": [
        {
          "output_type": "execute_result",
          "data": {
            "text/plain": [
              "torch.Size([128, 784])"
            ]
          },
          "metadata": {},
          "execution_count": 16
        }
      ]
    },
    {
      "cell_type": "code",
      "metadata": {
        "id": "pD_FPxeipeT7",
        "colab": {
          "base_uri": "https://localhost:8080/"
        },
        "outputId": "e48080e5-a1d6-4a15-934c-b04f1c5ae4ce"
      },
      "source": [
        "layer1_outputs = layer1(inputs)\n",
        "print('layer1_outputs.shape:', layer1_outputs.shape)"
      ],
      "execution_count": 17,
      "outputs": [
        {
          "output_type": "stream",
          "name": "stdout",
          "text": [
            "layer1_outputs.shape: torch.Size([128, 32])\n"
          ]
        }
      ]
    },
    {
      "cell_type": "markdown",
      "metadata": {
        "id": "PK-eA2QTpeT7"
      },
      "source": [
        "Observamos ahora que los vectores de las imagenes de tamaño 784 se han transformado en unos vectores intermedios de tamaño 32, a través de la multiplicación de matrices que se ha realizado entre la matriz de `inputs` con la atriz traspuesta de los pesos de `layer1`, a la cual se le añaden los sesgos _bias_. \n",
        "\n",
        "Podemos verificar estas operaciones realizandolas de forma manual y comparando los resultados con `torch.allclose`."
      ]
    },
    {
      "cell_type": "code",
      "metadata": {
        "id": "0dEnp5VjpeT7",
        "colab": {
          "base_uri": "https://localhost:8080/"
        },
        "outputId": "89246694-8013-461d-bbc6-a27a4ebe73d1"
      },
      "source": [
        "layer1_outputs_direct = inputs @ layer1.weight.t() + layer1.bias # @ es multiplicacion de matrices\n",
        "layer1_outputs_direct.shape"
      ],
      "execution_count": 18,
      "outputs": [
        {
          "output_type": "execute_result",
          "data": {
            "text/plain": [
              "torch.Size([128, 32])"
            ]
          },
          "metadata": {},
          "execution_count": 18
        }
      ]
    },
    {
      "cell_type": "code",
      "metadata": {
        "id": "qtNl1q-M2eCj",
        "colab": {
          "base_uri": "https://localhost:8080/"
        },
        "outputId": "259b00bb-2065-4d01-ac34-adfd7f10aad0"
      },
      "source": [
        "torch.allclose(layer1_outputs, layer1_outputs_direct, 1e-3) #allclose nos permite ver como de lejos esta un vector de otro"
      ],
      "execution_count": 20,
      "outputs": [
        {
          "output_type": "execute_result",
          "data": {
            "text/plain": [
              "True"
            ]
          },
          "metadata": {},
          "execution_count": 20
        }
      ]
    },
    {
      "cell_type": "markdown",
      "metadata": {
        "id": "MW9IXDPtpeT7"
      },
      "source": [
        "Así pues, en este punto, `layer1_outputs` y las `inputs` tienen una relación lineal, i.e., cada elemento de `layer_outputs` es una suma ponderada de los valores de `inputs`. En concreto una suma de 728 valores ponderados por 728 coeficientes, para cada salida. Sin embargo, por más que entrenemos el modelo y reajustemos los pesos, `layer1` únicamente será capaz de capturar relaciones lineales entre `inputs` y `outputs`.\n",
        "\n",
        "<img src=\"https://i.imgur.com/inXsLuq.png\" width=\"360\">\n"
      ]
    },
    {
      "cell_type": "markdown",
      "metadata": {
        "id": "mPbk-p632eCj"
      },
      "source": [
        "Para mejorar esto, lo siguiente que vamos a hacer es emplear la función ReLU (_Rectified Linear Unit_) como función de activación para las salidas. Eta función tiene la fórmula `relu(x) = max(0,x)` i.e. simplemente reemplaza los valores negativos de un tensor dado por el valo 0. ReLU es una función no lineal, como podemos observar:\n",
        "\n",
        "<img src=\"https://i.imgur.com/yijV4xF.png\" width=\"420\">\n",
        "\n",
        "Emplearemos el método `F.relu` de `torch.nn.functional` para aplicar ReLU a los elementos de un tensor."
      ]
    },
    {
      "cell_type": "code",
      "metadata": {
        "id": "zHMpGUGRpeT7",
        "colab": {
          "base_uri": "https://localhost:8080/"
        },
        "outputId": "d46669b8-87b7-40af-eed4-41ac391c0167"
      },
      "source": [
        "F.relu(torch.tensor([[1, -1, 0], \n",
        "                     [-0.1, .2, 3]])) #los que son <0 los lleva a 0, los mayores los lleva a ellos mismos"
      ],
      "execution_count": 21,
      "outputs": [
        {
          "output_type": "execute_result",
          "data": {
            "text/plain": [
              "tensor([[1.0000, 0.0000, 0.0000],\n",
              "        [0.0000, 0.2000, 3.0000]])"
            ]
          },
          "metadata": {},
          "execution_count": 21
        }
      ]
    },
    {
      "cell_type": "markdown",
      "metadata": {
        "id": "Y0QIFoEopeT7"
      },
      "source": [
        "Aplicamos la función RELU a la salida `layer1_outputs` y verificamos que los valores negativos han sido reemplazados por 0:"
      ]
    },
    {
      "cell_type": "code",
      "metadata": {
        "id": "QqBj3KsnpeT7",
        "colab": {
          "base_uri": "https://localhost:8080/"
        },
        "outputId": "d6ff2c1d-c713-49aa-eb05-bc57fb5a0361"
      },
      "source": [
        "relu_outputs = F.relu(layer1_outputs)\n",
        "print('min(layer1_outputs):', torch.min(layer1_outputs).item())\n",
        "print('min(relu_outputs):', torch.min(relu_outputs).item())"
      ],
      "execution_count": 22,
      "outputs": [
        {
          "output_type": "stream",
          "name": "stdout",
          "text": [
            "min(layer1_outputs): -0.7013400197029114\n",
            "min(relu_outputs): 0.0\n"
          ]
        }
      ]
    },
    {
      "cell_type": "markdown",
      "metadata": {
        "id": "g42i491NpeT7"
      },
      "source": [
        "Al aplicar ahora esta función de activación no lineal, `relu_outputs` e `inputs` ya no tienen relación lineal. Nos referimos a ella como _función de activación_ porque en definitiva lo que estamos haciendo es que ciertas salidas se activen (aquellas con valores superiores a cero) mientras que las otras quedan inactivadas. \n",
        "\n",
        "Vamos a crear ahora la capa de salida que convertirá los vectores de longitud `hidden_size` en `relu_outputs` dentro de vectores de longitud 10, que es la longitud necesaria para nuestro modelo (hay 10 posibles etiquetas de salida)"
      ]
    },
    {
      "cell_type": "code",
      "metadata": {
        "id": "k1qY-KYzpeT7"
      },
      "source": [
        "output_size = 10\n",
        "layer2 = nn.Linear(hidden_size, output_size)"
      ],
      "execution_count": 23,
      "outputs": []
    },
    {
      "cell_type": "code",
      "metadata": {
        "id": "D_DuKvL8peT7",
        "colab": {
          "base_uri": "https://localhost:8080/"
        },
        "outputId": "faafeb60-b2ab-4ecb-f654-e24b379af958"
      },
      "source": [
        "layer2_outputs = layer2(relu_outputs)\n",
        "print(layer2_outputs.shape)"
      ],
      "execution_count": 24,
      "outputs": [
        {
          "output_type": "stream",
          "name": "stdout",
          "text": [
            "torch.Size([128, 10])\n"
          ]
        }
      ]
    },
    {
      "cell_type": "code",
      "metadata": {
        "id": "caxPuaS9dQhH",
        "colab": {
          "base_uri": "https://localhost:8080/"
        },
        "outputId": "0299c179-f5d1-4bf3-977a-78989d825a31"
      },
      "source": [
        "inputs.shape #la entrada de 128 pasa a 32 por la capa oculta y luego a 10"
      ],
      "execution_count": 25,
      "outputs": [
        {
          "output_type": "execute_result",
          "data": {
            "text/plain": [
              "torch.Size([128, 784])"
            ]
          },
          "metadata": {},
          "execution_count": 25
        }
      ]
    },
    {
      "cell_type": "markdown",
      "metadata": {
        "id": "AikFPlJppeT7"
      },
      "source": [
        "Como es de esperar, `layer2_outputs` contiene un lote de vectores de tamaño  10. Ahora emplearemos esa salida para calcular el error empleando  `F.cross_entropy` y ajustando los pesos de las capas `layer1` y `layer2` por descenso de gradiente."
      ]
    },
    {
      "cell_type": "code",
      "metadata": {
        "id": "CQ_ArLNApeT7",
        "colab": {
          "base_uri": "https://localhost:8080/"
        },
        "outputId": "3db845a6-8f4e-4b3d-ddf8-3c5a37c2ffe2"
      },
      "source": [
        "F.cross_entropy(layer2_outputs, labels)"
      ],
      "execution_count": 26,
      "outputs": [
        {
          "output_type": "execute_result",
          "data": {
            "text/plain": [
              "tensor(2.2979, grad_fn=<NllLossBackward0>)"
            ]
          },
          "metadata": {},
          "execution_count": 26
        }
      ]
    },
    {
      "cell_type": "markdown",
      "metadata": {
        "id": "UazxyCKHpeT7"
      },
      "source": [
        "Así pues, nuestro modelo transforma las `inputs` a `layer2_outputs` aplicando una transformación lineal (a través de `layer1`), seguida de una activación no lineal (empleando `F.relu`), seguida a su vez de otra transformación lineal (a través de `layer2`). \n",
        "Podemos verificar esto recalculando la salida empleando únicamente operaciones básicas entre matrices."
      ]
    },
    {
      "cell_type": "code",
      "metadata": {
        "id": "vNQ2nPijpeT7"
      },
      "source": [
        "# Versión expandida de layer2(F.relu(layer1(inputs)))\n",
        "outputs = (F.relu(inputs @ layer1.weight.t() + layer1.bias)) @ layer2.weight.t() + layer2.bias"
      ],
      "execution_count": 27,
      "outputs": []
    },
    {
      "cell_type": "code",
      "metadata": {
        "id": "4BgaRib-peT7",
        "colab": {
          "base_uri": "https://localhost:8080/"
        },
        "outputId": "efa33568-9ca5-4334-fe93-55ae9af2c757"
      },
      "source": [
        "torch.allclose(outputs, layer2_outputs, 1e-3)"
      ],
      "execution_count": 28,
      "outputs": [
        {
          "output_type": "execute_result",
          "data": {
            "text/plain": [
              "True"
            ]
          },
          "metadata": {},
          "execution_count": 28
        }
      ]
    },
    {
      "cell_type": "markdown",
      "metadata": {
        "id": "ZLOjL89WpeT7"
      },
      "source": [
        "Podemos constatar que ahora `outputs` e `inputs` no tienen una relación lineal, debido a la introducción de la función `F.relu`. A medida que entrenamos el modelo y ajustamos los pesos de las capas `layer1` y `layer2`, conseguimos ahora capturar relaciones no lineales entre las imagenes y sus etiquetas. En otras palabras, al introducir la no linealidad hace que el modelo se vuelva más potente y más verátil. Por otro lado `hidden_size`, el tamaño de la capa oculta, no depende de las dimensiones de la entrada ni de las salidas. Podemos incrementarlo o reducirlo, reflejarlo en la mayr o menor cantidad de parámetros que se austarán en el interior del modelo. También podemos insertar otras capas ocultas y aplicar la misma fucnión de activación despues de cada una. \n",
        "\n",
        "El modelo que hemos planetado es una red neuronal mínima, también llamado perceptrón multicapa (_Multilayer Perceptron, MLP_). El MLP puede constar de más capas ocultas. De hecho, una red neuronal profunda es simplemente una red neuronal con 2 o más capas ocultas. El [Teorema de Aproximación Universal](http://neuralnetworksanddeeplearning.com/chap4.html) especifica que una red neuronal suficientemente larga y profunda, puede obtener cualquier función, i.e. que puede llegar a aprender relaciones extremadamente complejas entre entradas y salidas. \n",
        "\n",
        "Puede ser dificil imaginar como el simple proceso de multiplicar valores de entrada por matrices inicializadas aleatoriamente, aplicar una función básica no lineal muy simple y reajustando pesos repetidamente puede llevar a obtener los resultados que se consiguen en las aplicaciones de las redes neuronales. No obstante, hemos de tener en cuenta que las redes neuronales profundas a menudo contienen **millones de parámetros** que se recalculan y la combinación de todos ellos permite capturar esas relaciones complejas que un cerebro humano no alcanza a captar. \n"
      ]
    },
    {
      "cell_type": "markdown",
      "metadata": {
        "id": "l8dOeJyfpeT8"
      },
      "source": [
        "## Modelo\n",
        "\n",
        "Ahora estamos listos para definir nuestro modelo. Vamos a crear una red neuronal con una capa oculta, teniendo en cuanta las siguientes consideraciones:  \n",
        "\n",
        "* En lugar de emplear un único objeto `nn.Linear` para transformar cada lote de entradas (intensidades de pixel) en salidas (probabilidades para cada clase), vamos a emplear dos objetos `nn.Linear`. Cada uno de ellos será una capa llamada _layer_ en la red.\n",
        "\n",
        "* La primera capa (conocida como capa oculta o _hidden layer_) transforma la matriz de entrada de dimensiones `batch_size x 784` a una matriz intermedia de de forma `batch_size x hidden_size`. El parámetro `hidden_size` se configurará manualmente e indica la cantidad de elementos (neuronas) que ponemos en dicha capa oculta.\n",
        "\n",
        "* A continuación aplicamos la _función de activación_ a las salidas intermedias. \n",
        "\n",
        "* El resultado de la función de activación, que mantiene las dimensiones `batch_size x hidden_size`, es pasado a la segunda capa o capa de salida. Esta capa transforma dicha entrada a una matriz de tamaño `batch_size x 10`. Ahora podemos emplear las salidas obtenidas para calcular el error con respecto a salida correcta y ajustar (actualizar) los pesos empleando descenso de gradiente en un proceso que se llama _backpropagation_.\n",
        "\n",
        "Visualmente, el modelo quedará como se muestra a continuación. Es lo que se conoce como **arquitectura del modelo** y en redes mayores puede llegar a ser ectremadamente compleja.\n",
        "\n",
        "<img src=\"https://i.imgur.com/eN7FrpF.png\" width=\"480\">\n",
        "\n",
        "\n",
        "Para definir el modelo, vamos a extender la clase base `nn.Module` de PyTorch."
      ]
    },
    {
      "cell_type": "code",
      "metadata": {
        "id": "_fKPW6tSpeT8"
      },
      "source": [
        "class MnistModel(nn.Module):\n",
        "    \"\"\"MLP con 1 capa oculta\"\"\"\n",
        "    def __init__(self, in_size, hidden_size, out_size): #crea matrices de pesos de las dimensiones adecuadas para cada capa, valores inicializados de forma aleatoria\n",
        "        super().__init__()\n",
        "        # hidden layer\n",
        "        self.linear1 = nn.Linear(in_size, hidden_size)\n",
        "        # output layer\n",
        "        self.linear2 = nn.Linear(hidden_size, out_size)\n",
        "        \n",
        "    def forward(self, xb):\n",
        "        # Extendemos los tensores de las imagenes\n",
        "        xb = xb.view(xb.size(0), -1) #coge las 128 imagenes de 28x28 y creará vectores de 128x784\n",
        "        # Salidas inteermedias\n",
        "        out = self.linear1(xb)\n",
        "        # Aplicamos función de activación\n",
        "        out = F.relu(out)\n",
        "        # Predicciones en la capa de salida\n",
        "        out = self.linear2(out)\n",
        "        return out\n",
        "       \n",
        "    def training_step(self, batch):\n",
        "        images, labels = batch \n",
        "        out = self(images)                  # Genera predicciones\n",
        "        loss = F.cross_entropy(out, labels) # Calcula loss\n",
        "        return loss\n",
        "    \n",
        "    def validation_step(self, batch):\n",
        "        images, labels = batch \n",
        "        out = self(images)                    # Genera predicciones\n",
        "        loss = F.cross_entropy(out, labels)   # Calcula loss\n",
        "        acc = accuracy(out, labels)           # Calcula accuracy\n",
        "        return {'val_loss': loss, 'val_acc': acc}\n",
        "\n",
        "    def validation_epoch_end(self, outputs):\n",
        "        batch_losses = [x['val_loss'] for x in outputs]\n",
        "        epoch_loss = torch.stack(batch_losses).mean()   # Combina losses\n",
        "        batch_accs = [x['val_acc'] for x in outputs]\n",
        "        epoch_acc = torch.stack(batch_accs).mean()      # Combina accuracies\n",
        "        return {'val_loss': epoch_loss.item(), 'val_acc': epoch_acc.item()}\n",
        "    \n",
        "    def epoch_end(self, epoch, result):\n",
        "        print(\"Epoch [{}], val_loss: {:.4f}, val_acc: {:.4f}\".format(epoch, result['val_loss'], result['val_acc']))"
      ],
      "execution_count": 29,
      "outputs": []
    },
    {
      "cell_type": "markdown",
      "metadata": {
        "id": "haxQhrX1AFdt"
      },
      "source": [
        "De igual forma que en el ejemplo de regresión, además de especificar las capas del modelo, definimos otros metodos que nos resultarán útiles para el entrenamiento y control del proceso. "
      ]
    },
    {
      "cell_type": "markdown",
      "metadata": {
        "id": "DBRZFQcz2eCt"
      },
      "source": [
        "Vamos a preparar tambien una función que nos calcule la precisión del modelo para un lote dado de entradas. Esta función se llama `accuracy` y la empleamos en el método `validation_step` definido anteriormente."
      ]
    },
    {
      "cell_type": "code",
      "metadata": {
        "id": "ooA0PwVipeT8"
      },
      "source": [
        "def accuracy(outputs, labels):\n",
        "    _, preds = torch.max(outputs, dim=1)\n",
        "    return torch.tensor(torch.sum(preds == labels).item() / len(preds))"
      ],
      "execution_count": 30,
      "outputs": []
    },
    {
      "cell_type": "markdown",
      "metadata": {
        "id": "4sSd532VpeT8"
      },
      "source": [
        "Creamos un modelo con una capa oculta de 32 elementos: "
      ]
    },
    {
      "cell_type": "code",
      "metadata": {
        "id": "beSRnIQTpeT8"
      },
      "source": [
        "#PARÁMETROS DE LA RED\n",
        "input_size = 784\n",
        "hidden_size = 32 # Esto puede configurarse\n",
        "num_classes = 10\n",
        "\n"
      ],
      "execution_count": 32,
      "outputs": []
    },
    {
      "cell_type": "code",
      "metadata": {
        "id": "IvSp6BFppeT8"
      },
      "source": [
        "model = MnistModel(input_size, hidden_size=hidden_size, out_size=num_classes)"
      ],
      "execution_count": 33,
      "outputs": []
    },
    {
      "cell_type": "markdown",
      "metadata": {
        "id": "EtWfv0N9peT8"
      },
      "source": [
        "Comprobamos los parámetros del modelo y que concuerden en dimensiones. Tenemos matrices de pesos y matrices de biases:"
      ]
    },
    {
      "cell_type": "code",
      "metadata": {
        "id": "psecOJfZpeT8",
        "colab": {
          "base_uri": "https://localhost:8080/"
        },
        "outputId": "5a1642e7-d9d2-4d9f-9b97-ab264ae7c0a1"
      },
      "source": [
        "for t in model.parameters():\n",
        "    print(t.shape) #orden: 1 matriz1 de pesos, 2 bias1, 3 matriz2 de pesos y 4 bias2\n",
        "\n",
        "#tenemos 784x32 + 10 + 10x32 + 10 parámetros en el modelo"
      ],
      "execution_count": 34,
      "outputs": [
        {
          "output_type": "stream",
          "name": "stdout",
          "text": [
            "torch.Size([32, 784])\n",
            "torch.Size([32])\n",
            "torch.Size([10, 32])\n",
            "torch.Size([10])\n"
          ]
        }
      ]
    },
    {
      "cell_type": "markdown",
      "metadata": {
        "id": "zeFGsljIpeT8"
      },
      "source": [
        "Probamos ahora a generar algunas salidas con el modelo y verificar que funciona. Tomamos el primer lote de 128 imagenes y las pasamos a través del modelo"
      ]
    },
    {
      "cell_type": "code",
      "metadata": {
        "id": "jajA6VFYpeT8",
        "colab": {
          "base_uri": "https://localhost:8080/"
        },
        "outputId": "a4a0cc85-6b5c-4a22-c184-5758aaad5dfc"
      },
      "source": [
        "for images, labels in train_loader:\n",
        "    outputs = model(images)\n",
        "    loss = F.cross_entropy(outputs, labels)\n",
        "    print('Loss:', loss.item())\n",
        "    break\n",
        "\n",
        "print('outputs.shape : ', outputs.shape)\n",
        "print('Sample outputs :\\n', outputs[:2].data)"
      ],
      "execution_count": 35,
      "outputs": [
        {
          "output_type": "stream",
          "name": "stdout",
          "text": [
            "Loss: 2.3107776641845703\n",
            "outputs.shape :  torch.Size([128, 10])\n",
            "Sample outputs :\n",
            " tensor([[-0.2851, -0.0070,  0.2223, -0.1515, -0.2157, -0.0195,  0.1269,  0.0260,\n",
            "          0.0850, -0.2682],\n",
            "        [-0.2022,  0.0379,  0.2129, -0.1880, -0.1572, -0.0127,  0.1144, -0.0348,\n",
            "          0.0614, -0.3798]])\n"
          ]
        }
      ]
    },
    {
      "cell_type": "markdown",
      "metadata": {
        "id": "vmw6iiTXpeT8"
      },
      "source": [
        "## Usando una GPU\n",
        "\n",
        "Según se va incrementando el tamaño de los modelos y los conjuntos de datos que empleamos se hace necesario aprovechar GPUs para entrenarlos en unos tiempos razonables. Las GPUs contienen cientos de núcleos optimizados para la realización de operaciónes con matrices de números de coma flotante muy rápido, siendo por tanto ideales para el entrenamiento de redes neuronales. \n",
        "\n",
        "Actualmente además, es posible emplear GPUs de forma libre y gratuita en plataformas como [Google Colab](https://colab.research.google.com/) y [Kaggle](https://www.kaggle.com/kernels) o bien alquilar máquinas y tiempos GPUs en servicios como [Google Cloud Platform](https://cloud.google.com/gpu/), [Amazon Web Services](https://docs.aws.amazon.com/dlami/latest/devguide/gpu.html), entre otros (y cada vez más)\n",
        "\n",
        "Para comprobar si tenemos disponible GPU para el cálculo y sus controladores están instalados emplearemos la función `torch.cuda.is_available`."
      ]
    },
    {
      "cell_type": "code",
      "metadata": {
        "id": "gt2Ve_cFpeT8",
        "colab": {
          "base_uri": "https://localhost:8080/"
        },
        "outputId": "344f8346-ceb6-4f9b-ee17-9e5fe2d3394a"
      },
      "source": [
        "torch.cuda.is_available()"
      ],
      "execution_count": 36,
      "outputs": [
        {
          "output_type": "execute_result",
          "data": {
            "text/plain": [
              "True"
            ]
          },
          "metadata": {},
          "execution_count": 36
        }
      ]
    },
    {
      "cell_type": "markdown",
      "metadata": {
        "id": "S2ffHXrnpeT8"
      },
      "source": [
        "Podemos definir una función que realiza esa comprobación y configura el dispositivo para aprovechar la GPU cuando sea posible y cuando no, emplea la CPU: "
      ]
    },
    {
      "cell_type": "code",
      "metadata": {
        "id": "oY8kxA4tpeT8"
      },
      "source": [
        "def get_default_device(): #nos dice si el dispositivo puede usar cuda o no\n",
        "    \"\"\"Pick GPU if available, else CPU\"\"\"\n",
        "    if torch.cuda.is_available():\n",
        "        return torch.device('cuda')\n",
        "    else:\n",
        "        return torch.device('cpu')"
      ],
      "execution_count": 37,
      "outputs": []
    },
    {
      "cell_type": "code",
      "metadata": {
        "id": "rgxTDAjtpeT8",
        "colab": {
          "base_uri": "https://localhost:8080/"
        },
        "outputId": "314ca5ac-9845-4b61-e129-6a7b3bd12744"
      },
      "source": [
        "device = get_default_device()\n",
        "device"
      ],
      "execution_count": 38,
      "outputs": [
        {
          "output_type": "execute_result",
          "data": {
            "text/plain": [
              "device(type='cuda')"
            ]
          },
          "metadata": {},
          "execution_count": 38
        }
      ]
    },
    {
      "cell_type": "markdown",
      "metadata": {
        "id": "U58VabR4peT8"
      },
      "source": [
        "Ahora será necesario definir una función para mover los datos y el modelo al dispositivo (GPU o CPU) seleccionado."
      ]
    },
    {
      "cell_type": "code",
      "metadata": {
        "id": "qe39OMPmpeT8"
      },
      "source": [
        "def to_device(data, device):\n",
        "    \"\"\"Movemos los tensores al dispositivo\"\"\"\n",
        "    if isinstance(data, (list,tuple)): # si los datos son compatibles con una lista o tupla:\n",
        "        return [to_device(x, device) for x in data]\n",
        "    return data.to(device, non_blocking=True)"
      ],
      "execution_count": 39,
      "outputs": []
    },
    {
      "cell_type": "code",
      "metadata": {
        "id": "bdouJFtwpeT8",
        "colab": {
          "base_uri": "https://localhost:8080/"
        },
        "outputId": "3715b87d-6653-4771-b470-ac50943b0c92"
      },
      "source": [
        "for images, labels in train_loader:\n",
        "    print(images.shape)\n",
        "    images = to_device(images, device) # carga los datos en el dispositivo: cuda\n",
        "    print(images.device)\n",
        "    break"
      ],
      "execution_count": 40,
      "outputs": [
        {
          "output_type": "stream",
          "name": "stdout",
          "text": [
            "torch.Size([128, 1, 28, 28])\n",
            "cuda:0\n"
          ]
        }
      ]
    },
    {
      "cell_type": "markdown",
      "metadata": {
        "id": "SJ_ZM0pYHsVM"
      },
      "source": [
        "A través de las dos funciones anteriores, podemos hacer de forma general que automáticamente se seleccione el dispositivo correspondiente (GPU si se puede y si no CPU) y los datos se cargen en él. "
      ]
    },
    {
      "cell_type": "markdown",
      "metadata": {
        "id": "WiKbIzujpeT9"
      },
      "source": [
        "Finalmente, vamos a definir una clase que vamos a llamar `DeviceDataLoader` para encapsular (_wrapp_) nuestros lotes e ir enviandolos adecuadamente al dicpositivos seleccionado. En realidad no necesitamos extender ninguna clase existente de Pytorch para generar nuestro _data loader_. Todo lo que debemos hacer es definir un iterador `__iter__` que vaya tomando lotes y los envíe al dispostivo y un método `__len__` que obtenga el número de lotes."
      ]
    },
    {
      "cell_type": "code",
      "metadata": {
        "id": "Mncx5AEcpeT9"
      },
      "source": [
        "class DeviceDataLoader():\n",
        "    \"\"\"Encapsula un dataloader para mover los datos al dispositivo device\"\"\"\n",
        "    def __init__(self, dl, device):\n",
        "        self.dl = dl #dataloader\n",
        "        self.device = device\n",
        "        \n",
        "    def __iter__(self):\n",
        "        \"\"\"Itera lotes de datos y los va enviando al device\"\"\"\n",
        "        for b in self.dl: \n",
        "            yield to_device(b, self.device) #yield devuelve todos los lotes en el dataloader\n",
        "\n",
        "    def __len__(self):\n",
        "        \"\"\"Numero de lotes\"\"\"\n",
        "        return len(self.dl)"
      ],
      "execution_count": 42,
      "outputs": []
    },
    {
      "cell_type": "markdown",
      "metadata": {
        "id": "RxwvU5eP4r76"
      },
      "source": [
        "La palabra clave `yield` Python se usa para crear una funcion generadora que se puede empleada en un bucle `for`, com ose ilustra en el ejemplo siguiente: "
      ]
    },
    {
      "cell_type": "code",
      "metadata": {
        "id": "7IeHPpx74slh",
        "colab": {
          "base_uri": "https://localhost:8080/"
        },
        "outputId": "a4f8d0cd-e93b-43f1-b1c6-6c4f0b7fc488"
      },
      "source": [
        "def some_numbers():\n",
        "    yield 10\n",
        "    yield 20\n",
        "    yield 30\n",
        "\n",
        "for value in some_numbers():\n",
        "    print(value)"
      ],
      "execution_count": 44,
      "outputs": [
        {
          "output_type": "stream",
          "name": "stdout",
          "text": [
            "10\n",
            "20\n",
            "30\n"
          ]
        }
      ]
    },
    {
      "cell_type": "markdown",
      "metadata": {
        "id": "9AM28h0ipeT9"
      },
      "source": [
        "Empleamos `DeviceDataLoader` para encapsular el envío de los datos por lotes al dispositivo que corresponda."
      ]
    },
    {
      "cell_type": "code",
      "metadata": {
        "id": "fwZdTIxgpeT9"
      },
      "source": [
        "train_loader = DeviceDataLoader(train_loader, device)\n",
        "val_loader = DeviceDataLoader(val_loader, device)"
      ],
      "execution_count": 45,
      "outputs": []
    },
    {
      "cell_type": "markdown",
      "metadata": {
        "id": "Go0zbQTypeT9"
      },
      "source": [
        "Los tensores que se mueven a una GPU tienen una propiedad llamada `device` que es la palabra `cuda`. Podemos verificar esto revisando uno de los lotes con `val_loader`:"
      ]
    },
    {
      "cell_type": "code",
      "metadata": {
        "id": "ZdOfMdmxpeT9",
        "colab": {
          "base_uri": "https://localhost:8080/"
        },
        "outputId": "5a00c56e-270a-4e55-ebcd-75c9ad419ce2"
      },
      "source": [
        "for xb, yb in val_loader:\n",
        "    print('xb.device:', xb.device)\n",
        "    print('yb:', yb)\n",
        "    break"
      ],
      "execution_count": 46,
      "outputs": [
        {
          "output_type": "stream",
          "name": "stdout",
          "text": [
            "xb.device: cuda:0\n",
            "yb: tensor([4, 2, 1, 6, 5, 8, 1, 3, 0, 6, 9, 6, 2, 5, 1, 3, 1, 1, 9, 9, 7, 7, 7, 4,\n",
            "        5, 4, 8, 1, 4, 6, 5, 6, 6, 9, 7, 8, 5, 4, 3, 9, 9, 3, 8, 6, 2, 8, 3, 1,\n",
            "        1, 6, 4, 9, 6, 2, 2, 2, 9, 7, 3, 7, 2, 0, 2, 5, 0, 7, 7, 3, 9, 3, 2, 4,\n",
            "        8, 0, 4, 6, 1, 0, 2, 4, 9, 9, 7, 2, 6, 9, 7, 0, 9, 6, 6, 6, 2, 9, 6, 0,\n",
            "        0, 2, 7, 9, 5, 1, 5, 5, 4, 6, 8, 5, 6, 1, 2, 9, 2, 6, 9, 5, 6, 1, 2, 7,\n",
            "        4, 7, 5, 9, 9, 8, 1, 2, 6, 3, 1, 3, 4, 3, 7, 4, 8, 1, 0, 2, 6, 0, 4, 9,\n",
            "        4, 6, 0, 5, 1, 9, 1, 9, 6, 2, 7, 3, 3, 8, 2, 3, 5, 1, 0, 8, 8, 0, 4, 8,\n",
            "        8, 0, 0, 4, 3, 4, 8, 2, 0, 4, 7, 9, 7, 0, 1, 9, 8, 8, 2, 7, 3, 0, 8, 7,\n",
            "        4, 5, 2, 8, 6, 7, 4, 8, 7, 0, 3, 8, 5, 9, 8, 6, 8, 4, 1, 7, 7, 9, 4, 2,\n",
            "        6, 6, 8, 3, 7, 2, 5, 5, 5, 2, 2, 5, 1, 6, 0, 1, 2, 1, 3, 6, 4, 1, 1, 0,\n",
            "        2, 8, 3, 4, 5, 6, 4, 1, 0, 8, 8, 6, 4, 6, 5, 2], device='cuda:0')\n"
          ]
        }
      ]
    },
    {
      "cell_type": "markdown",
      "metadata": {
        "id": "sfPhGrIRpeT9"
      },
      "source": [
        "## Entrenamiento\n",
        "\n",
        "Definiremos nuestras funciones `fit` and `evaluate` para entrenar el modelo, de forma similar al notebook anterior. \n",
        "Recordemos que estas funciones están planteadas para que sean independientes del modelo planteado (definido con la clase `MnistModel`), realizando los pasos generales para el ajuste del modelo, i.e., para cada lote realizamos entrenamiento, cálculo de error, calculo de gradientes, actualización de pesos, reset de gradientes, evaluación en validación y guardado de resultados en una lista (`history[]`)"
      ]
    },
    {
      "cell_type": "code",
      "metadata": {
        "id": "JRw6Zf0wpeT9"
      },
      "source": [
        "def evaluate(model, val_loader):\n",
        "    \"\"\"Evalua el rendimento del modelo en el  set de validacion\"\"\"\n",
        "    outputs = [model.validation_step(batch) for batch in val_loader]\n",
        "    return model.validation_epoch_end(outputs) #valor final de los epochs en perdida y accuracy\n",
        "\n",
        "def fit(epochs, lr, model, train_loader, val_loader, opt_func=torch.optim.SGD):\n",
        "    \"\"\"Entrena el modelo usando descenso de gradiente\"\"\"\n",
        "    history = []\n",
        "    optimizer = opt_func(model.parameters(), lr)\n",
        "    for epoch in range(epochs):\n",
        "        # Training Phase \n",
        "        for batch in train_loader:\n",
        "            loss = model.training_step(batch)\n",
        "            loss.backward()\n",
        "            optimizer.step()\n",
        "            optimizer.zero_grad()\n",
        "        # Validation phase\n",
        "        result = evaluate(model, val_loader)\n",
        "        model.epoch_end(epoch, result) #definida anteriormente en la clase\n",
        "        history.append(result)\n",
        "    return history"
      ],
      "execution_count": 48,
      "outputs": []
    },
    {
      "cell_type": "markdown",
      "metadata": {
        "id": "JuWv6GKZpeT9"
      },
      "source": [
        "Antes de entrenar hemos de asegurarnos que tanto los datos como los parámetros del modelo (pesos y biases) están en el **mismo dispositivo** (CPU o GPU). Para ello podemos aprovechar la función deinida anteriormente `to_device`para mover los parámetros del modelo al dispositivo correcto:"
      ]
    },
    {
      "cell_type": "code",
      "metadata": {
        "id": "u1CyEQsJpeT9",
        "colab": {
          "base_uri": "https://localhost:8080/"
        },
        "outputId": "8cb883c6-5a21-4b4c-b326-1fe74a4ed1f0"
      },
      "source": [
        "# Modelo (a GPU)\n",
        "model = MnistModel(input_size, hidden_size=hidden_size, out_size=num_classes) #inicializa\n",
        "to_device(model, device)"
      ],
      "execution_count": 49,
      "outputs": [
        {
          "output_type": "execute_result",
          "data": {
            "text/plain": [
              "MnistModel(\n",
              "  (linear1): Linear(in_features=784, out_features=32, bias=True)\n",
              "  (linear2): Linear(in_features=32, out_features=10, bias=True)\n",
              ")"
            ]
          },
          "metadata": {},
          "execution_count": 49
        }
      ]
    },
    {
      "cell_type": "markdown",
      "metadata": {
        "id": "9N_aE2GRpeT9"
      },
      "source": [
        "Veamos como lo hace el modelo con el conjunto de validacion"
      ]
    },
    {
      "cell_type": "code",
      "metadata": {
        "id": "bF_wEBAIpeT9",
        "colab": {
          "base_uri": "https://localhost:8080/"
        },
        "outputId": "4bce974f-4e9f-4ea6-a049-cfa1ca7ddfa6"
      },
      "source": [
        "history = [evaluate(model, val_loader)]\n",
        "history#aún no hemos entrenado porque no hemos usado la función fit"
      ],
      "execution_count": 50,
      "outputs": [
        {
          "output_type": "execute_result",
          "data": {
            "text/plain": [
              "[{'val_acc': 0.10185547173023224, 'val_loss': 2.3203742504119873}]"
            ]
          },
          "metadata": {},
          "execution_count": 50
        }
      ]
    },
    {
      "cell_type": "markdown",
      "metadata": {
        "id": "BU0tYFcPpeT9"
      },
      "source": [
        "La precisión inicial está en torno al 10%, lo cual como ya sabemos es lo esperable dado que tenemos 10 posibles salidas y hemos inicializado aleatoriamente los pesos y biases.\n",
        "\n",
        "Continuamos entrenando 5 ciclos _epochs_ más para ver el avance. Dado queestamos en una fase inicial, vamos a usar una tasa de aprendizaje relativamente alto de 0.5."
      ]
    },
    {
      "cell_type": "code",
      "metadata": {
        "id": "DE5_oVckpeT9",
        "colab": {
          "base_uri": "https://localhost:8080/"
        },
        "outputId": "983bb14e-b0e3-4c28-b8c2-458e15668bfc"
      },
      "source": [
        "history += fit(5, 0.5, model, train_loader, val_loader)"
      ],
      "execution_count": 51,
      "outputs": [
        {
          "output_type": "stream",
          "name": "stdout",
          "text": [
            "Epoch [0], val_loss: 0.2612, val_acc: 0.9225\n",
            "Epoch [1], val_loss: 0.1664, val_acc: 0.9500\n",
            "Epoch [2], val_loss: 0.1432, val_acc: 0.9556\n",
            "Epoch [3], val_loss: 0.1266, val_acc: 0.9611\n",
            "Epoch [4], val_loss: 0.1169, val_acc: 0.9630\n"
          ]
        }
      ]
    },
    {
      "cell_type": "markdown",
      "metadata": {
        "id": "_by-a2g9peT9"
      },
      "source": [
        "Realmente hemos mejorado mucho! 96% es un muy buen resultado. Podemos probar a seguir entrenando, esta vez con un ratio de aprendizaje menor para intentar afinar en nuestro ajuste y mejorar los resultados."
      ]
    },
    {
      "cell_type": "code",
      "metadata": {
        "id": "AjA2dtlrpeT9"
      },
      "source": [
        "history += fit(5, 0.1, model, train_loader, val_loader) #al bajar el learning rate hace que los movimientos de actualización de los pesos sean más lentos"
      ],
      "execution_count": null,
      "outputs": []
    },
    {
      "cell_type": "markdown",
      "metadata": {
        "id": "W7LAqJCMpeT9"
      },
      "source": [
        "Vamos a graficar los resultados y de esa froma estudiar como el modelo va mejorando con respecto a los ciclos que entrena."
      ]
    },
    {
      "cell_type": "code",
      "metadata": {
        "id": "I3g-DRifpeT9",
        "colab": {
          "base_uri": "https://localhost:8080/",
          "height": 295
        },
        "outputId": "538353db-62e3-4cba-f843-556fac715dae"
      },
      "source": [
        "losses = [x['val_loss'] for x in history]\n",
        "plt.plot(losses, '-x')\n",
        "plt.xlabel('epoch')\n",
        "plt.ylabel('loss')\n",
        "plt.title('Loss vs. No. of epochs');"
      ],
      "execution_count": 52,
      "outputs": [
        {
          "output_type": "display_data",
          "data": {
            "image/png": "[encoded data removed]",
            "text/plain": [
              "<Figure size 432x288 with 1 Axes>"
            ]
          },
          "metadata": {
            "needs_background": "light"
          }
        }
      ]
    },
    {
      "cell_type": "code",
      "metadata": {
        "id": "28kJvNmFpeT9",
        "scrolled": true,
        "colab": {
          "base_uri": "https://localhost:8080/",
          "height": 295
        },
        "outputId": "0b7b19a3-c632-4c25-a21a-df8f890793eb"
      },
      "source": [
        "accuracies = [x['val_acc'] for x in history]\n",
        "plt.plot(accuracies, '-x')\n",
        "plt.xlabel('epoch')\n",
        "plt.ylabel('accuracy')\n",
        "plt.title('Accuracy vs. No. of epochs');"
      ],
      "execution_count": 53,
      "outputs": [
        {
          "output_type": "display_data",
          "data": {
            "image/png": "[encoded data removed]",
            "text/plain": [
              "<Figure size 432x288 with 1 Axes>"
            ]
          },
          "metadata": {
            "needs_background": "light"
          }
        }
      ]
    },
    {
      "cell_type": "markdown",
      "metadata": {
        "id": "zBmLGRuLpeT9"
      },
      "source": [
        "Observamos que el modelo ha conseguido superar (con los mismos datos) los resultados obtenidos con el modelo de regresion logística (que estaban en torna al 86%) El modelo con un MLP simple (una sola capa oculta) rápidamente ha obtenido cerca de un 97% lo cual es muy buen resultado, aunque parece que ya no mejora mucho más. Para conseguir mejorar más, tendríamos que plantear modelos más potentes incrementando el número de elementos en la capa oculta o directamente el número de capas. "
      ]
    },
    {
      "cell_type": "markdown",
      "metadata": {
        "id": "Lf_6nWkCBGB5"
      },
      "source": [
        "## Test con imágenes individuales\n",
        "\n",
        "Además de llevar un seguimiento de lo precisión del modelo, también resulta interesante explorar los resultados del modelo con ejemplos concretos de imágenes. Vamos a probar el modelo con algunas del conjunto de 10000 imágenes de test. \n",
        "\n",
        "Empezamos transformando los datos a tensores con `ToTensor`"
      ]
    },
    {
      "cell_type": "code",
      "metadata": {
        "id": "ZJ6E4f-iBBTm"
      },
      "source": [
        "# Define test dataset\n",
        "test_dataset = MNIST(root='data/', \n",
        "                     train=False,\n",
        "                     transform=ToTensor())"
      ],
      "execution_count": 54,
      "outputs": []
    },
    {
      "cell_type": "markdown",
      "metadata": {
        "id": "uGKvjeJXBTiN"
      },
      "source": [
        "Definiremos una función `predict_image` que nos facilitará la predicción devolviendo la etiqueta obtenida para un tensor de imagen individual entrado."
      ]
    },
    {
      "cell_type": "code",
      "metadata": {
        "id": "ZhxrAx6LBTNG"
      },
      "source": [
        "#tenemos imágenes 1x28x28\n",
        "\n",
        "def predict_image(img, model):\n",
        "    xb = to_device(img.unsqueeze(0), device) #lleva la imagen.unsqueeze al dispositivo, unsqueeze(0) añade una dimensión en la posición 0: 1x1x28x28\n",
        "    yb = model(xb)\n",
        "    _, preds  = torch.max(yb, dim=1)\n",
        "    return preds[0].item()"
      ],
      "execution_count": 55,
      "outputs": []
    },
    {
      "cell_type": "markdown",
      "metadata": {
        "id": "N4kUaLBqBZLd"
      },
      "source": [
        "Probamos con varias imágenes: "
      ]
    },
    {
      "cell_type": "markdown",
      "source": [
        "128x1x28x28\n",
        "\n",
        "128x784 -> 128x10 -> resultado: 1 solo(el más grande)\n",
        "\n",
        "1x28x28 1x1x28x28 1x784 -> 1x10 -> 1 (el más alto)"
      ],
      "metadata": {
        "id": "M6aRNRcq8AlF"
      }
    },
    {
      "cell_type": "code",
      "metadata": {
        "id": "JsNnl42DBXog",
        "colab": {
          "base_uri": "https://localhost:8080/",
          "height": 282
        },
        "outputId": "16e67d45-d524-4245-efd8-9a93c8ebeda6"
      },
      "source": [
        "img, label = test_dataset[0]\n",
        "plt.imshow(img[0], cmap='gray')\n",
        "print('Label:', label, ', Predicted:', predict_image(img, model))"
      ],
      "execution_count": 56,
      "outputs": [
        {
          "output_type": "stream",
          "name": "stdout",
          "text": [
            "Label: 7 , Predicted: 7\n"
          ]
        },
        {
          "output_type": "display_data",
          "data": {
            "image/png": "[encoded data removed]",
            "text/plain": [
              "<Figure size 432x288 with 1 Axes>"
            ]
          },
          "metadata": {
            "needs_background": "light"
          }
        }
      ]
    },
    {
      "cell_type": "code",
      "metadata": {
        "id": "lu0lN0xnBiD6",
        "colab": {
          "base_uri": "https://localhost:8080/",
          "height": 282
        },
        "outputId": "f94e50c3-ddd3-425b-b410-8dd0a0fa3de0"
      },
      "source": [
        "img, label = test_dataset[4500]\n",
        "plt.imshow(img[0], cmap='gray')\n",
        "print('Label:', label, ', Predicted:', predict_image(img, model))"
      ],
      "execution_count": 57,
      "outputs": [
        {
          "output_type": "stream",
          "name": "stdout",
          "text": [
            "Label: 9 , Predicted: 9\n"
          ]
        },
        {
          "output_type": "display_data",
          "data": {
            "image/png": "[encoded data removed]",
            "text/plain": [
              "<Figure size 432x288 with 1 Axes>"
            ]
          },
          "metadata": {
            "needs_background": "light"
          }
        }
      ]
    },
    {
      "cell_type": "code",
      "metadata": {
        "id": "ZpzxiYHjBliK",
        "colab": {
          "base_uri": "https://localhost:8080/",
          "height": 282
        },
        "outputId": "8bcf8ed1-8c70-4761-824b-38b639f1769a"
      },
      "source": [
        "img, label = test_dataset[193]\n",
        "plt.imshow(img[0], cmap='gray')\n",
        "print('Label:', label, ', Predicted:', predict_image(img, model))"
      ],
      "execution_count": 58,
      "outputs": [
        {
          "output_type": "stream",
          "name": "stdout",
          "text": [
            "Label: 9 , Predicted: 9\n"
          ]
        },
        {
          "output_type": "display_data",
          "data": {
            "image/png": "[encoded data removed]",
            "text/plain": [
              "<Figure size 432x288 with 1 Axes>"
            ]
          },
          "metadata": {
            "needs_background": "light"
          }
        }
      ]
    },
    {
      "cell_type": "code",
      "metadata": {
        "id": "MNgqjarSbOL9",
        "colab": {
          "base_uri": "https://localhost:8080/",
          "height": 282
        },
        "outputId": "1ff8b7ad-5318-40fe-e398-da90d6ba3e67"
      },
      "source": [
        "img, label = test_dataset[1839]\n",
        "plt.imshow(img[0], cmap='gray')\n",
        "print('Label:', label, ', Predicted:', predict_image(img, model))"
      ],
      "execution_count": 59,
      "outputs": [
        {
          "output_type": "stream",
          "name": "stdout",
          "text": [
            "Label: 2 , Predicted: 2\n"
          ]
        },
        {
          "output_type": "display_data",
          "data": {
            "image/png": "[encoded data removed]",
            "text/plain": [
              "<Figure size 432x288 with 1 Axes>"
            ]
          },
          "metadata": {
            "needs_background": "light"
          }
        }
      ]
    },
    {
      "cell_type": "markdown",
      "metadata": {
        "id": "RqG62k05BqpC"
      },
      "source": [
        "Como ya sabemos, es interesante identificar donde se comporta peor nuestro modelo porque es la forma en que podemos afrontar las diferentes estrategias de mejora, bien recogiendo más datos, ajustando hiperpaámetros, arquitectura de la red, etc.\n",
        "\n",
        "Com opaso final, vamos a evaluar la pérdida y precisión total para el modelo sobre el conjunto de test."
      ]
    },
    {
      "cell_type": "code",
      "metadata": {
        "id": "rvNoyn0RBtBm",
        "colab": {
          "base_uri": "https://localhost:8080/"
        },
        "outputId": "6d993f41-03fe-46fd-bdd9-76ed07f9e218"
      },
      "source": [
        "test_loader = DeviceDataLoader(DataLoader(test_dataset, batch_size=256), device)\n",
        "result = evaluate(model, test_loader)\n",
        "result"
      ],
      "execution_count": 60,
      "outputs": [
        {
          "output_type": "execute_result",
          "data": {
            "text/plain": [
              "{'val_acc': 0.96533203125, 'val_loss': 0.1130710169672966}"
            ]
          },
          "metadata": {},
          "execution_count": 60
        }
      ]
    },
    {
      "cell_type": "markdown",
      "metadata": {
        "id": "CZz2M4WPBzlT"
      },
      "source": [
        "El resultado obtenido debe ser parecido al de entrenamiento. Si no es así, es posible que el conjunto de validación empleado en el entrenamiento no tenga similar distribucion al de test, que a menudo proviene de datos reales. También se pueden dar problemas de sobreajuste. "
      ]
    },
    {
      "cell_type": "markdown",
      "metadata": {
        "id": "Q-syIZYUB1Ls"
      },
      "source": [
        "## Salvar el modelo \n",
        "Vamos a salvar el modelo a disco de forma que podamos recuperar los valores de las matrices de pesos y biases que han sido ajustados. De esta forma un nuevo modelo no tiene porqué empezar desde cero. También nos sirve para continuar el entrenamiento ."
      ]
    },
    {
      "cell_type": "code",
      "metadata": {
        "id": "BT6v860WByIJ"
      },
      "source": [
        "torch.save(model.state_dict(), 'mlp-basico.pth') #si estamos en colab lo guarda en el directorio temporal, si queremos tenerlo local hay que descargarlo"
      ],
      "execution_count": 61,
      "outputs": []
    },
    {
      "cell_type": "code",
      "source": [
        "model.state_dict()"
      ],
      "metadata": {
        "colab": {
          "base_uri": "https://localhost:8080/"
        },
        "id": "iL-waVrf9OKI",
        "outputId": "be5068aa-6045-43c2-9557-d4da59d6ef9b"
      },
      "execution_count": 62,
      "outputs": [
        {
          "output_type": "execute_result",
          "data": {
            "text/plain": [
              "OrderedDict([('linear1.weight',\n",
              "              tensor([[ 3.3197e-02,  3.3410e-02,  1.8202e-02,  ...,  2.4501e-02,\n",
              "                        2.1919e-02,  3.3760e-02],\n",
              "                      [-3.3533e-02, -1.1869e-02,  2.8680e-02,  ..., -1.6557e-02,\n",
              "                       -3.0587e-02, -8.3301e-03],\n",
              "                      [-1.6948e-02, -1.1429e-02,  8.2952e-03,  ...,  3.1727e-02,\n",
              "                       -7.7752e-03, -1.8766e-03],\n",
              "                      ...,\n",
              "                      [ 2.2697e-03, -1.0762e-02,  3.1179e-02,  ..., -2.0663e-02,\n",
              "                        2.9603e-03,  1.1101e-03],\n",
              "                      [-1.5558e-02, -3.3062e-02,  2.0078e-02,  ..., -4.2822e-05,\n",
              "                        3.3468e-02,  9.1295e-03],\n",
              "                      [-7.9540e-03,  1.1847e-02, -2.3881e-02,  ..., -6.0290e-03,\n",
              "                        1.5985e-02, -1.3711e-02]], device='cuda:0')),\n",
              "             ('linear1.bias',\n",
              "              tensor([ 0.0835, -0.2191,  0.0185,  0.3086,  0.0435, -0.1806,  0.0501,  0.0490,\n",
              "                       0.0021,  0.0735,  0.0369, -0.0398,  0.1099,  0.0717, -0.1707, -0.0035,\n",
              "                       0.0238,  0.4579,  0.0677,  0.0132, -0.0328,  0.2631,  0.2252,  0.1576,\n",
              "                       0.3116,  0.0480,  0.1257, -0.2839, -0.0427,  0.4263,  0.2959,  0.0472],\n",
              "                     device='cuda:0')),\n",
              "             ('linear2.weight',\n",
              "              tensor([[-8.4055e-02,  2.2193e-01,  4.2698e-01, -2.6813e-01, -1.7614e-01,\n",
              "                        5.7007e-01, -8.6730e-01,  2.6734e-01, -8.0803e-01, -4.4314e-01,\n",
              "                       -3.9020e-01,  5.1561e-02,  3.7875e-01, -6.4279e-01, -6.0063e-01,\n",
              "                       -4.9375e-02, -3.9617e-01,  6.7780e-01,  5.4044e-01, -2.1557e-01,\n",
              "                       -7.5590e-01, -2.8553e-01, -2.9344e-01, -6.7115e-02,  1.6102e-01,\n",
              "                       -2.9850e-01,  7.7483e-01,  8.4246e-01, -2.1538e-01, -2.6761e-01,\n",
              "                        1.7032e-01,  4.2431e-01],\n",
              "                      [-2.2883e-01, -4.2319e-01, -7.5351e-02, -6.7853e-01,  9.0228e-01,\n",
              "                       -4.5025e-01, -4.1949e-01,  4.4638e-01, -1.2782e-01,  4.4906e-01,\n",
              "                        7.5354e-01, -8.5195e-02,  1.1635e-02,  2.7132e-01,  6.8482e-01,\n",
              "                       -2.1168e-01, -4.4950e-01,  4.9720e-01, -7.4977e-01,  4.0067e-01,\n",
              "                        5.4442e-01,  3.5107e-01, -5.1723e-01,  5.0121e-02,  1.4726e-01,\n",
              "                        7.9447e-01, -2.8065e-01, -1.6586e-01, -3.6182e-01, -7.1164e-02,\n",
              "                       -2.8128e-01,  8.4652e-02],\n",
              "                      [-2.3030e-01,  5.3435e-01,  3.9799e-02, -6.2580e-01,  5.6468e-02,\n",
              "                       -2.2265e-02, -6.3552e-01, -1.0559e+00,  5.6879e-01,  4.3153e-01,\n",
              "                        7.4375e-01, -1.2201e-01, -3.3638e-01,  1.1580e+00, -4.9030e-01,\n",
              "                        5.7545e-01,  2.0980e-02,  6.6837e-01,  1.8008e-01,  1.1354e+00,\n",
              "                       -6.2058e-01, -8.3781e-01,  1.5120e-01,  1.4496e-01, -8.5253e-01,\n",
              "                        1.9694e-02, -7.4605e-02,  2.7298e-01,  6.1267e-01, -5.7465e-02,\n",
              "                        4.3246e-01, -4.4115e-01],\n",
              "                      [ 6.1759e-01,  5.3321e-01,  2.9049e-01, -1.7921e-03, -4.2980e-01,\n",
              "                        5.4126e-02,  9.5662e-01,  5.0380e-02,  2.8679e-01, -5.3611e-01,\n",
              "                       -5.1825e-01, -2.0967e-02,  6.4681e-01,  6.7402e-01,  4.3299e-02,\n",
              "                       -1.4226e-01,  2.3072e-01,  2.3893e-01, -2.4641e-01,  1.8147e-01,\n",
              "                        1.0335e+00, -9.4950e-01, -3.2508e-01, -5.0365e-01, -1.7853e-01,\n",
              "                        1.9132e-01, -7.6441e-01, -6.2364e-01,  1.0316e+00, -6.8053e-01,\n",
              "                        3.0498e-02, -5.5073e-01],\n",
              "                      [-8.2587e-01,  2.2018e-01,  1.8510e-01,  3.8864e-01,  4.9414e-01,\n",
              "                       -4.8327e-01,  6.2437e-01, -4.4851e-02, -7.1000e-01, -2.7369e-01,\n",
              "                       -3.5029e-01, -3.8866e-02, -1.0026e+00, -7.6636e-01,  6.2067e-01,\n",
              "                        8.3492e-01, -3.2521e-01, -4.9757e-01, -1.3738e-01, -5.8593e-01,\n",
              "                       -2.6508e-01,  5.5933e-01,  6.9810e-01,  4.6110e-01, -7.0319e-01,\n",
              "                        6.1366e-01, -4.0906e-01,  3.5760e-01, -1.0877e+00,  9.0022e-01,\n",
              "                       -2.8010e-01,  1.5245e-01],\n",
              "                      [ 7.5477e-01, -6.3484e-01, -4.0423e-01,  6.7593e-01,  1.1592e-01,\n",
              "                       -7.5413e-01,  9.6010e-01,  7.0327e-02,  5.8299e-01,  6.3152e-01,\n",
              "                       -4.7886e-01,  8.2165e-02,  3.4841e-01, -1.8384e-01, -3.5910e-01,\n",
              "                       -2.7975e-01,  2.8593e-02,  1.5922e-01,  1.9028e-01,  2.3496e-01,\n",
              "                        8.6554e-01,  2.9667e-01, -2.0394e-01,  5.1059e-01,  9.9793e-01,\n",
              "                       -1.3482e+00,  3.8139e-01, -1.2852e+00, -2.2160e-01, -5.5592e-01,\n",
              "                        1.1324e+00,  2.1659e-01],\n",
              "                      [ 1.1018e-01, -4.3142e-01,  4.8060e-01, -7.6352e-01,  8.6945e-03,\n",
              "                       -8.8531e-01, -8.0412e-01, -2.4540e-02, -2.4665e-01, -1.4100e-01,\n",
              "                        4.2105e-01, -7.3158e-02, -4.2715e-01, -7.6796e-01, -3.4388e-01,\n",
              "                        3.5355e-01,  7.9143e-01, -3.0388e-01,  1.1746e+00, -3.4546e-01,\n",
              "                       -2.8888e-01,  3.1885e-01, -9.7595e-01, -1.8617e-02,  2.0641e-04,\n",
              "                       -6.2654e-01,  9.7366e-01, -3.9605e-01, -6.9774e-04,  6.8915e-01,\n",
              "                        2.2084e-01,  4.1343e-01],\n",
              "                      [-8.4157e-01, -5.2766e-01,  7.4466e-01,  6.5143e-02,  5.7629e-01,\n",
              "                        6.6646e-01, -6.5894e-01,  4.6010e-01,  7.5335e-01, -2.0998e-01,\n",
              "                        1.3412e-01,  9.5314e-02,  5.3640e-01,  1.2164e+00, -3.8782e-01,\n",
              "                       -8.4098e-01, -2.8615e-01,  2.5835e-01, -8.3729e-01, -9.7031e-02,\n",
              "                       -5.9147e-01,  1.1547e-01,  8.2782e-01,  1.8089e-01,  1.6664e-01,\n",
              "                       -1.3148e-01, -2.8315e-01,  3.5267e-01,  7.9448e-01,  1.1988e+00,\n",
              "                       -2.8733e-01, -5.2444e-01],\n",
              "                      [ 8.4799e-01,  7.0814e-01, -8.9373e-01,  7.4616e-01, -9.2722e-01,\n",
              "                        2.6966e-01, -5.4786e-01, -6.7952e-01, -1.3696e-02, -1.0484e-02,\n",
              "                        1.3400e-01,  3.2934e-02, -3.5532e-01, -3.0778e-01,  4.1074e-01,\n",
              "                       -7.7338e-01,  3.9441e-01, -1.0748e+00,  3.5671e-01,  3.3587e-01,\n",
              "                       -3.2475e-01,  2.4213e-01,  2.7466e-01, -6.9748e-01,  2.2577e-01,\n",
              "                        4.8574e-02, -3.3208e-02, -1.9164e-01, -3.1063e-01, -3.4740e-01,\n",
              "                       -6.2786e-01, -5.7357e-01],\n",
              "                      [-2.3125e-01, -6.2186e-02, -6.3655e-01,  7.5228e-01, -8.4634e-01,\n",
              "                        7.0551e-01,  7.5101e-01,  5.6957e-01, -2.5360e-01,  2.6091e-01,\n",
              "                       -7.0040e-01,  6.9930e-02,  5.0375e-02, -9.1805e-01,  7.7600e-02,\n",
              "                        5.7674e-01,  2.9738e-01, -6.6294e-01, -6.7002e-01, -9.8984e-01,\n",
              "                       -1.3259e-01,  6.2052e-01,  3.7338e-01,  5.0963e-01,  4.2229e-01,\n",
              "                        5.7391e-01, -5.6208e-01,  5.6242e-01,  6.9922e-02, -7.4856e-01,\n",
              "                       -7.4502e-01,  6.6099e-01]], device='cuda:0')),\n",
              "             ('linear2.bias',\n",
              "              tensor([-0.4082,  0.3659, -0.0683, -0.1087,  0.0306,  0.3568,  0.0333,  0.0964,\n",
              "                       0.3196,  0.1568], device='cuda:0'))])"
            ]
          },
          "metadata": {},
          "execution_count": 62
        }
      ]
    },
    {
      "cell_type": "markdown",
      "metadata": {
        "id": "n2QOf-HEltUP"
      },
      "source": [
        "## Fin del Notebook"
      ]
    },
    {
      "cell_type": "markdown",
      "metadata": {
        "id": "BZDr1zYmBkRV"
      },
      "source": [
        "Referencias y modelos empleados para el Notebook: \n",
        "\n",
        "*   Documentación de [Pytorch](https://pytorch.org/docs/stable/index.html) \n",
        "*   [PyTorch Tutorial for Deep Learning Researchers](https://github.com/yunjey/pytorch-tutorial) by Yunjey Choi\n",
        "*   [FastAI](https://www.fast.ai/) development notebooks by Jeremy Howard.\n",
        "*   Documentación y cursos en [Pierian Data](https://www.pieriandata.com/)\n",
        "*   Tutoriales y notebooks del curso \"Deep Learning with Pytorch: Zero to GANs\" de [Aakash N S](https://jovian.ai/aakashns)\n",
        "* [A visual proof that neural networks can compute any function](http://neuralnetworksanddeeplearning.com/chap4.html), también conocido como Teorema de Aproximación Universal\n",
        "* [But what *is* a neural network?](https://www.youtube.com/watch?v=aircAruvnKk) - Una introducción muy intuitiva a lo que son las redes neuronales y lo que implican las capas ocultas."
      ]
    }
  ]
}