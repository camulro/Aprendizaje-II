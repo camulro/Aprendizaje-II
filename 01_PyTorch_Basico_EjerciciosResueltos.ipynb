{
  "nbformat": 4,
  "nbformat_minor": 0,
  "metadata": {
    "kernelspec": {
      "display_name": "Python 3",
      "language": "python",
      "name": "python3"
    },
    "language_info": {
      "codemirror_mode": {
        "name": "ipython",
        "version": 3
      },
      "file_extension": ".py",
      "mimetype": "text/x-python",
      "name": "python",
      "nbconvert_exporter": "python",
      "pygments_lexer": "ipython3",
      "version": "3.7.3"
    },
    "colab": {
      "name": "01-PyTorch_Basico_EjerciciosResueltos.ipynb",
      "provenance": [],
      "collapsed_sections": [],
      "include_colab_link": true
    }
  },
  "cells": [
    {
      "cell_type": "markdown",
      "metadata": {
        "id": "view-in-github",
        "colab_type": "text"
      },
      "source": [
        "<a href=\"https://colab.research.google.com/github/camulro/Aprendizaje-II/blob/sesi%C3%B3n1/01_PyTorch_Basico_EjerciciosResueltos.ipynb\" target=\"_parent\"><img src=\"https://colab.research.google.com/assets/colab-badge.svg\" alt=\"Open In Colab\"/></a>"
      ]
    },
    {
      "cell_type": "markdown",
      "metadata": {
        "id": "AVBv0eq8108q"
      },
      "source": [
        "![IDAL](https://i.imgur.com/tIKXIG1.jpg)  \n",
        "\n",
        "#**Máster en Inteligencia Artificial Avanzada y Aplicada:  IA^3**\n",
        "---\n"
      ]
    },
    {
      "cell_type": "markdown",
      "metadata": {
        "collapsed": true,
        "id": "VEvbppY2MddM"
      },
      "source": [
        "# PyTorch Basico Ejercicios - SOLUCIONES\n",
        "\n",
        "En estos ejercicos crearemos algunos tensores y realizaremos operaciones básicos sobre ellos.\n"
      ]
    },
    {
      "cell_type": "markdown",
      "metadata": {
        "id": "a-WqWFLrFX0N"
      },
      "source": [
        "### 1. Realiza las importaciones standard\n",
        "Importa torch and NumPy"
      ]
    },
    {
      "cell_type": "code",
      "metadata": {
        "id": "7-iBtl_qFX0O"
      },
      "source": [
        "\n",
        "import torch\n",
        "import numpy as np"
      ],
      "execution_count": 1,
      "outputs": []
    },
    {
      "cell_type": "markdown",
      "metadata": {
        "id": "-WEIgHwpFX0P"
      },
      "source": [
        "### 2. Configura una semilla para los generadores de ambos Numpy y Pytorch con el valor \"42\"\n",
        "Esto permite reproducir los mismos resultados \"aleatorios\""
      ]
    },
    {
      "cell_type": "code",
      "metadata": {
        "id": "t3FGQjvFFX0P"
      },
      "source": [
        "np.random.seed(42)\n",
        "torch.manual_seed(42); # El punto y como suprime la línea de salida en jupyter"
      ],
      "execution_count": 2,
      "outputs": []
    },
    {
      "cell_type": "markdown",
      "metadata": {
        "id": "m7-jK-a9FX0Q"
      },
      "source": [
        "### 3. Crea un NumPy array llamado \"arr\" que contenga 6 enteros aleatorios entre 0 (incluido) y 5 (excluido)"
      ]
    },
    {
      "cell_type": "code",
      "metadata": {
        "colab": {
          "base_uri": "https://localhost:8080/"
        },
        "id": "2wCuVmuVFX0R",
        "outputId": "bb57a2e0-bf7c-45b2-f992-ed56673dba10"
      },
      "source": [
        "arr = np.random.randint(0,5,6) #array de enteros -> randint\n",
        "print(arr)"
      ],
      "execution_count": 3,
      "outputs": [
        {
          "output_type": "stream",
          "name": "stdout",
          "text": [
            "[3 4 2 4 4 1]\n"
          ]
        }
      ]
    },
    {
      "cell_type": "markdown",
      "metadata": {
        "id": "VNKMiwSBFX0T"
      },
      "source": [
        "### 4. Crea a tensor \"x\" del array anterior "
      ]
    },
    {
      "cell_type": "code",
      "metadata": {
        "colab": {
          "base_uri": "https://localhost:8080/"
        },
        "id": "gF-3xtRPFX0U",
        "outputId": "414c4b24-a6d5-475d-da1b-8dc990e873f2"
      },
      "source": [
        "x = torch.from_numpy(arr)\n",
        "print(x)"
      ],
      "execution_count": 4,
      "outputs": [
        {
          "output_type": "stream",
          "name": "stdout",
          "text": [
            "tensor([3, 4, 2, 4, 4, 1])\n"
          ]
        }
      ]
    },
    {
      "cell_type": "code",
      "source": [
        "print(x.type())"
      ],
      "metadata": {
        "colab": {
          "base_uri": "https://localhost:8080/"
        },
        "id": "pceB5M3_IK3-",
        "outputId": "88f965e5-98eb-402f-aa44-1807ebdbde79"
      },
      "execution_count": null,
      "outputs": [
        {
          "output_type": "stream",
          "name": "stdout",
          "text": [
            "torch.LongTensor\n"
          ]
        }
      ]
    },
    {
      "cell_type": "markdown",
      "metadata": {
        "id": "ZeLzZWH8FX0U"
      },
      "source": [
        "### 5. Cambia el tipo de dato (`dtype`) de x de 'int32' a 'int64'\n",
        "Nota: 'int64' tambien se puede llamar 'LongTensor'"
      ]
    },
    {
      "cell_type": "code",
      "metadata": {
        "colab": {
          "base_uri": "https://localhost:8080/"
        },
        "id": "SOGD2bfOFX0V",
        "outputId": "df84baf0-2e4e-440a-8762-afba4505d75c"
      },
      "source": [
        "x = x.type(torch.int32) #entero corto es de 32\n",
        "# x = x.type(torch.LongTensor)\n",
        "print(x.type())"
      ],
      "execution_count": 6,
      "outputs": [
        {
          "output_type": "stream",
          "name": "stdout",
          "text": [
            "torch.IntTensor\n"
          ]
        }
      ]
    },
    {
      "cell_type": "markdown",
      "metadata": {
        "id": "vRIev8pKFX0W"
      },
      "source": [
        "### 6. Cambia la forma del tensor a un 3x2 tensor\n",
        "Hay varias formas de hacer esto"
      ]
    },
    {
      "cell_type": "code",
      "metadata": {
        "colab": {
          "base_uri": "https://localhost:8080/"
        },
        "id": "liSfn9nXFX0X",
        "outputId": "6f419f01-f8a6-45bb-88a4-55b16c0b5b61"
      },
      "source": [
        "x = x.view(3,2)\n",
        "# x = x.reshape(3,2)\n",
        "# x.resize_(3,2) asi lo almacena directamente en x\n",
        "print(x)"
      ],
      "execution_count": 15,
      "outputs": [
        {
          "output_type": "stream",
          "name": "stdout",
          "text": [
            "tensor([[3, 4],\n",
            "        [2, 4],\n",
            "        [4, 1]], dtype=torch.int32)\n"
          ]
        }
      ]
    },
    {
      "cell_type": "markdown",
      "metadata": {
        "id": "-crPCW01FX0X"
      },
      "source": [
        "### 7. Retorna la columna de la derecha del tensor the right-hand column of tensor x\n",
        "\n",
        "Atención a la forma de hacerlo "
      ]
    },
    {
      "cell_type": "code",
      "metadata": {
        "colab": {
          "base_uri": "https://localhost:8080/"
        },
        "id": "psHUi5tFFX0Y",
        "outputId": "7f277598-99c4-4a03-82f8-31da2e242c4f"
      },
      "source": [
        "print(x[:,1:])\n",
        "# print(x[:,1])"
      ],
      "execution_count": 10,
      "outputs": [
        {
          "output_type": "stream",
          "name": "stdout",
          "text": [
            "tensor([[4],\n",
            "        [4],\n",
            "        [1]], dtype=torch.int32)\n"
          ]
        }
      ]
    },
    {
      "cell_type": "code",
      "metadata": {
        "colab": {
          "base_uri": "https://localhost:8080/"
        },
        "id": "lL2nx3aUKP_X",
        "outputId": "c0d05914-f9dc-4b04-e57b-82ef11f2ba9e"
      },
      "source": [
        "print(x[:,1])\n"
      ],
      "execution_count": 11,
      "outputs": [
        {
          "output_type": "stream",
          "name": "stdout",
          "text": [
            "tensor([4, 4, 1], dtype=torch.int32)\n"
          ]
        }
      ]
    },
    {
      "cell_type": "markdown",
      "metadata": {
        "id": "seXrwOn0FX0Y"
      },
      "source": [
        "### 8. Sin cambiar x, retorna un tensor con los valores cuadradaticos de x\n",
        "Hay varias formas de hacer esto"
      ]
    },
    {
      "cell_type": "code",
      "metadata": {
        "id": "IHqa4hm-FX0c",
        "colab": {
          "base_uri": "https://localhost:8080/"
        },
        "outputId": "da62236c-4849-49cc-a6e4-7d8696004e0c"
      },
      "source": [
        "print(x*x)\n",
        "# print(x**2)\n",
        "# print(x.mul(x))\n",
        "# print(x.pow(2))\n",
        "# print(torch.mul(x,x))"
      ],
      "execution_count": 12,
      "outputs": [
        {
          "output_type": "stream",
          "name": "stdout",
          "text": [
            "tensor([[ 9, 16],\n",
            "        [ 4, 16],\n",
            "        [16,  1]], dtype=torch.int32)\n"
          ]
        }
      ]
    },
    {
      "cell_type": "markdown",
      "metadata": {
        "id": "j0mS61beFX0d"
      },
      "source": [
        "### 9. Crea un tensor \"y\" con el mismo número de elementos que x, de forma que pueda realizar una multiplicación de matrices.\n",
        "\n",
        "Utiliza funciones de Pytorch directamente para crear un tensor de enteros aleatorios entre 0 (incluido) y 5 (excluido). \n",
        "\n",
        "Ten en cuenta qué forma debe tener para hacer la multiplicación de matrices..."
      ]
    },
    {
      "cell_type": "code",
      "metadata": {
        "id": "VV3yGlzpFX0d",
        "colab": {
          "base_uri": "https://localhost:8080/"
        },
        "outputId": "f2738394-b26d-4a25-cdd0-30140baf200a"
      },
      "source": [
        "y = torch.randint(0,5,(2,3)) #cuidado con las dimensiones, x tiene 3 filas y 2 columnas\n",
        "print(y)"
      ],
      "execution_count": 16,
      "outputs": [
        {
          "output_type": "stream",
          "name": "stdout",
          "text": [
            "tensor([[0, 4, 0],\n",
            "        [3, 3, 4]])\n"
          ]
        }
      ]
    },
    {
      "cell_type": "markdown",
      "metadata": {
        "id": "eERlJ1WiFX0e"
      },
      "source": [
        "### 10. Realiza el producto de matrices entre x e y"
      ]
    },
    {
      "cell_type": "code",
      "metadata": {
        "id": "hBGN5ITuFX0f",
        "colab": {
          "base_uri": "https://localhost:8080/"
        },
        "outputId": "b46c9661-b962-4d17-bb7e-7edb2295cd4a"
      },
      "source": [
        "x = x.type(torch.int64) #para que el tipo de dato coincida con y\n",
        "print(x.mm(y))"
      ],
      "execution_count": 19,
      "outputs": [
        {
          "output_type": "stream",
          "name": "stdout",
          "text": [
            "tensor([[12, 24, 16],\n",
            "        [12, 20, 16],\n",
            "        [ 3, 19,  4]])\n"
          ]
        }
      ]
    },
    {
      "cell_type": "markdown",
      "metadata": {
        "id": "dqMUG9NWFX0f"
      },
      "source": [
        "## Enhorabuena! Vamos calentando motores..."
      ]
    },
    {
      "cell_type": "markdown",
      "metadata": {
        "id": "n2QOf-HEltUP"
      },
      "source": [
        "## Fin del Notebook"
      ]
    },
    {
      "cell_type": "markdown",
      "metadata": {
        "id": "BZDr1zYmBkRV"
      },
      "source": [
        "Referencias y modelos empleados para el Notebook: \n",
        "\n",
        "*   Documentación de [Pytorch](https://pytorch.org/docs/stable/index.html) \n",
        "*   [PyTorch Tutorial for Deep Learning Researchers](https://github.com/yunjey/pytorch-tutorial) by Yunjey Choi\n",
        "*   [FastAI](https://www.fast.ai/) development notebooks by Jeremy Howard.\n",
        "*   Documentación y cursos en [Pierian Data](https://www.pieriandata.com/)\n"
      ]
    }
  ]
}